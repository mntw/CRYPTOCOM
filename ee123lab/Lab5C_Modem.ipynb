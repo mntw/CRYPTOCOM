{
 "cells": [
  {
   "cell_type": "markdown",
   "metadata": {},
   "source": [
    "# Lab 5 Part III: AX.25 and APRS\n",
    "## Please read the text in this lab carefully, there's lots of important detailed information everywhere. \n",
    "\n",
    "In this part of the lab we are going to experiment with Digital modulation and communication. Network Communication systems have layered architechture. The bottom layer is the physical which implements the modulation. Here we will use your [AFSK](http://en.wikipedia.org/wiki/Frequency-shift_keying) modules that you implemented in part II. In addition, we will leverage [AX.25](http://www.tapr.org/pub_ax25.html), which is an amateur-radio data-link layer protocol. [AX.25](http://www.tapr.org/pub_ax25.html) is a packet based protocol that will help us transmit data using packets. It implements basic synchronization, addressing, data encapsulation and some error detection.  In the ham world, an implementation of AFSK and [AX.25](http://www.tapr.org/pub_ax25.html)  together is also called a [TNC ( Terminal Node Controller )](http://en.wikipedia.org/wiki/Terminal_node_controller). In the past TNC's were separate boxes that hams used to attach to their radios to communicate with packet-based-communication. Today, it is easy to implement TNC's in software using the computer's soundcard.... as you will see here! \n",
    "\n",
    "\n"
   ]
  },
  {
   "cell_type": "code",
   "execution_count": 1,
   "metadata": {
    "collapsed": false
   },
   "outputs": [
    {
     "name": "stderr",
     "output_type": "stream",
     "text": [
      "/Library/Python/2.7/site-packages/matplotlib/font_manager.py:273: UserWarning: Matplotlib is building the font cache using fc-list. This may take a moment.\n",
      "  warnings.warn('Matplotlib is building the font cache using fc-list. This may take a moment.')\n"
     ]
    },
    {
     "name": "stdout",
     "output_type": "stream",
     "text": [
      "Using matplotlib backend: MacOSX\n",
      "Populating the interactive namespace from numpy and matplotlib\n"
     ]
    }
   ],
   "source": [
    "%pylab\n",
    "# Import functions and libraries\n",
    "from __future__ import division\n",
    "\n",
    "import numpy as np\n",
    "import matplotlib.pyplot as plt\n",
    "import pyaudio\n",
    "import Queue\n",
    "import threading,time\n",
    "import sys\n",
    "\n",
    "from numpy import pi\n",
    "from numpy import sin\n",
    "from numpy import zeros\n",
    "from numpy import r_\n",
    "from numpy import ones\n",
    "from scipy import signal\n",
    "from scipy import integrate\n",
    "\n",
    "import threading,time\n",
    "import multiprocessing\n",
    "\n",
    "from numpy import mean\n",
    "from numpy import power\n",
    "from numpy.fft import fft\n",
    "from numpy.fft import fftshift\n",
    "from numpy.fft import ifft\n",
    "from numpy.fft import ifftshift\n",
    "import bitarray\n",
    "from  scipy.io.wavfile import read as wavread\n",
    "import serial\n",
    "import ax25\n",
    "from fractions import gcd\n",
    "\n",
    "\n",
    "%matplotlib inline"
   ]
  },
  {
   "cell_type": "markdown",
   "metadata": {},
   "source": [
    "For the following tasks you will need the functions:\n",
    "\n",
    "`sg_plot`  included below\n",
    "\n",
    "`myspectrogram_hann_ovlp` included below\n",
    "\n",
    "`play_audio` included below\n",
    "\n",
    "`record_audio`  included below\n",
    "\n",
    "`printDevNumbers`  included below\n",
    "\n",
    "`text2Morse` (from Part I, to Identify yourself before transmission)\n",
    "\n",
    "`afsk1200` (from Part II)\n",
    "\n",
    "`nc_afsk1200Demod` (from Part II)\n",
    "\n",
    "`PLL` (from Part II)"
   ]
  },
  {
   "cell_type": "code",
   "execution_count": 2,
   "metadata": {
    "collapsed": true
   },
   "outputs": [],
   "source": [
    "# function to compute least common multipler\n",
    "def lcm(numbers):\n",
    "    return reduce(lambda x, y: (x*y)/gcd(x,y), numbers, 1)\n",
    "\n",
    "\n",
    "# function to compute average power spectrum\n",
    "def avgPS( x, N=256, fs=1):\n",
    "    M = floor(len(x)/N)\n",
    "    x_ = reshape(x[:M*N],(M,N)) * np.hamming(N)[None,:]\n",
    "    X = np.fft.fftshift(np.fft.fft(x_,axis=1),axes=1)\n",
    "    return r_[-N/2.0:N/2.0]/N*fs, mean(abs(X)**2,axis=0)\n",
    "\n",
    "\n",
    "# Plot an image of the spectrogram y, with the axis labeled with time tl,\n",
    "# and frequency fl\n",
    "#\n",
    "# t_range -- time axis label, nt samples\n",
    "# f_range -- frequency axis label, nf samples\n",
    "# y -- spectrogram, nf by nt array\n",
    "# dbf -- Dynamic range of the spect\n",
    "\n",
    "def sg_plot( t_range, f_range, y, dbf = 60, fig = None) :\n",
    "    eps = 10.0**(-dbf/20.0)  # minimum signal\n",
    "    \n",
    "    # find maximum\n",
    "    y_max = abs(y).max()\n",
    "    \n",
    "    # compute 20*log magnitude, scaled to the max\n",
    "    y_log = 20.0 * np.log10( (abs( y ) / y_max)*(1-eps) + eps )\n",
    "    \n",
    "    # rescale image intensity to 256\n",
    "    img = 256*(y_log + dbf)/dbf - 1\n",
    "    \n",
    "    fig=figure(figsize=(16,6))\n",
    "    \n",
    "    plt.imshow( np.flipud( 64.0*(y_log + dbf)/dbf ), extent= t_range  + f_range ,cmap=plt.cm.gray, aspect='auto')\n",
    "    plt.xlabel('Time, s')\n",
    "    plt.ylabel('Frequency, Hz')\n",
    "    plt.tight_layout()\n",
    "    \n",
    "    return fig\n",
    "\n",
    "\n",
    "def myspectrogram_hann_ovlp(x, m, fs, fc,dbf = 60):\n",
    "    # Plot the spectrogram of x.\n",
    "    # First take the original signal x and split it into blocks of length m\n",
    "    # This corresponds to using a rectangular window %\n",
    "    \n",
    "    \n",
    "    isreal_bool = isreal(x).all()\n",
    "    \n",
    "    # pad x up to a multiple of m \n",
    "    lx = len(x);\n",
    "    nt = (lx + m - 1) // m\n",
    "    x = append(x,zeros(-lx+nt*m))\n",
    "    x = x.reshape((m/2,nt*2), order='F')\n",
    "    x = concatenate((x,x),axis=0)\n",
    "    x = x.reshape((m*nt*2,1),order='F')\n",
    "    x = x[r_[m//2:len(x),ones(m//2)*(len(x)-1)].astype(int)].reshape((m,nt*2),order='F')\n",
    "    \n",
    "    \n",
    "    xmw = x * hanning(m)[:,None];\n",
    "    \n",
    "    \n",
    "    # frequency index\n",
    "    t_range = [0.0, lx / fs]\n",
    "    \n",
    "    if isreal_bool:\n",
    "        f_range = [ fc, fs / 2.0 + fc]\n",
    "        xmf = np.fft.fft(xmw,len(xmw),axis=0)\n",
    "        sg_plot(t_range, f_range, xmf[0:m/2,:],dbf=dbf)\n",
    "        print 1\n",
    "    else:\n",
    "        f_range = [-fs / 2.0 + fc, fs / 2.0 + fc]\n",
    "        xmf = np.fft.fftshift( np.fft.fft( xmw ,len(xmw),axis=0), axes=0 )\n",
    "        sg_plot(t_range, f_range, xmf,dbf = dbf)\n",
    "    \n",
    "    return t_range, f_range, xmf\n",
    "\n",
    "def play_audio( Q,ctrlQ ,p, fs , dev, ser=\"\", keydelay=0.1):\n",
    "    # play_audio plays audio with sampling rate = fs\n",
    "    # Q - A queue object from which to play\n",
    "    # ctrlQ - A queue object for ending the thread\n",
    "    # p   - pyAudio object\n",
    "    # fs  - sampling rate\n",
    "    # dev - device number\n",
    "    # ser - pyserial device to key the radio\n",
    "    # keydelay - delay after keying the radio\n",
    "    #\n",
    "    #\n",
    "    # There are two ways to end the thread: \n",
    "    #    1 - send \"EOT\" through  the control queue. This is used to terminate the thread on demand\n",
    "    #    2 - send \"EOT\" through the data queue. This is used to terminate the thread when data is done. \n",
    "    #\n",
    "    # You can also key the radio either through the data queu and the control queue\n",
    "    \n",
    "    \n",
    "    # open output stream\n",
    "    ostream = p.open(format=pyaudio.paFloat32, channels=1, rate=int(fs),output=True,output_device_index=dev)\n",
    "    # play audio\n",
    "    while (1):\n",
    "        if not ctrlQ.empty():\n",
    "            \n",
    "            # control queue \n",
    "            ctrlmd = ctrlQ.get()\n",
    "            if ctrlmd is \"EOT\"  :\n",
    "                    ostream.stop_stream()\n",
    "                    ostream.close()\n",
    "                    print(\"Closed  play thread\")\n",
    "                    return;\n",
    "            elif (ctrlmd is \"KEYOFF\"  and ser!=\"\"):\n",
    "                ser.setDTR(0)\n",
    "                #print(\"keyoff\\n\")\n",
    "            elif (ctrlmd is \"KEYON\" and ser!=\"\"):\n",
    "                ser.setDTR(1)  # key PTT\n",
    "                #print(\"keyon\\n\")\n",
    "                time.sleep(keydelay) # wait 200ms (default) to let the power amp to ramp up\n",
    "                \n",
    "        \n",
    "        data = Q.get()\n",
    "        \n",
    "        if (data is \"EOT\") :\n",
    "            ostream.stop_stream()\n",
    "            ostream.close()\n",
    "            print(\"Closed  play thread\")\n",
    "            return;\n",
    "        elif (data is \"KEYOFF\"  and ser!=\"\"):\n",
    "            ser.setDTR(0)\n",
    "            #print(\"keyoff\\n\")\n",
    "        elif (data is \"KEYON\" and ser!=\"\"):\n",
    "            ser.setDTR(1)  # key PTT\n",
    "            #print(\"keyon\\n\")\n",
    "            time.sleep(keydelay) # wait 200ms (default) to let the power amp to ramp up\n",
    "            \n",
    "        else:\n",
    "            try:\n",
    "                ostream.write( data.astype(np.float32).tostring() )\n",
    "            except:\n",
    "                print(\"Exception\")\n",
    "                break\n",
    "            \n",
    "def record_audio( queue,ctrlQ, p, fs ,dev,chunk=1024):\n",
    "    # record_audio records audio with sampling rate = fs\n",
    "    # queue - output data queue\n",
    "    # p     - pyAudio object\n",
    "    # fs    - sampling rate\n",
    "    # dev   - device number \n",
    "    # chunk - chunks of samples at a time default 1024\n",
    "    #\n",
    "    # Example:\n",
    "    # fs = 44100\n",
    "    # Q = Queue.queue()\n",
    "    # p = pyaudio.PyAudio() #instantiate PyAudio\n",
    "    # record_audio( Q, p, fs, 1) # \n",
    "    # p.terminate() # terminate pyAudio\n",
    "    \n",
    "   \n",
    "    istream = p.open(format=pyaudio.paFloat32, channels=1, rate=int(fs),input=True,input_device_index=dev,frames_per_buffer=chunk)\n",
    "\n",
    "    # record audio in chunks and append to frames\n",
    "    frames = [];\n",
    "    while (1):\n",
    "        if not ctrlQ.empty():\n",
    "            ctrlmd = ctrlQ.get()          \n",
    "            if ctrlmd is \"EOT\"  :\n",
    "                istream.stop_stream()\n",
    "                istream.close()\n",
    "                print(\"Closed  record thread\")\n",
    "                return;\n",
    "        try:  # when the pyaudio object is distroyed stops\n",
    "            data_str = istream.read(chunk) # read a chunk of data\n",
    "        except:\n",
    "            break\n",
    "        data_flt = np.fromstring( data_str, 'float32' ) # convert string to float\n",
    "        queue.put( data_flt ) # append to list\n",
    "\n",
    "\n",
    "\n",
    "\n",
    "def text2Morse(text,fc,fs,dt):\n",
    "    CODE = {'A': '.-',     'B': '-...',   'C': '-.-.', \n",
    "        'D': '-..',    'E': '.',      'F': '..-.',\n",
    "        'G': '--.',    'H': '....',   'I': '..',\n",
    "        'J': '.---',   'K': '-.-',    'L': '.-..',\n",
    "        'M': '--',     'N': '-.',     'O': '---',\n",
    "        'P': '.--.',   'Q': '--.-',   'R': '.-.',\n",
    "     \t'S': '...',    'T': '-',      'U': '..-',\n",
    "        'V': '...-',   'W': '.--',    'X': '-..-',\n",
    "        'Y': '-.--',   'Z': '--..',\n",
    "        \n",
    "        '0': '-----',  '1': '.----',  '2': '..---',\n",
    "        '3': '...--',  '4': '....-',  '5': '.....',\n",
    "        '6': '-....',  '7': '--...',  '8': '---..',\n",
    "        '9': '----.',\n",
    "\n",
    "        ' ': ' ', \"'\": '.----.', '(': '-.--.-',  ')': '-.--.-',\n",
    "        ',': '--..--', '-': '-....-', '.': '.-.-.-',\n",
    "        '/': '-..-.',   ':': '---...', ';': '-.-.-.',\n",
    "        '?': '..--..', '_': '..--.-'\n",
    "        }\n",
    "    \n",
    "    Ndot= 1.0*fs*dt\n",
    "    Ndah = 3*Ndot\n",
    "    \n",
    "    sdot = sin(2*pi*fc*r_[0.0:Ndot]/fs)\n",
    "    sdah = sin(2*pi*fc*r_[0.0:Ndah]/fs)\n",
    "    \n",
    "    # convert to dit dah\n",
    "    mrs = \"\"\n",
    "    for char in text:\n",
    "        mrs = mrs + CODE[char.upper()] + \"*\"\n",
    "    \n",
    "    sig = zeros(1)\n",
    "    for char in mrs:\n",
    "        if char == \" \":\n",
    "            sig = concatenate((sig,zeros(Ndot*7)))\n",
    "        if char == \"*\":\n",
    "            sig = concatenate((sig,zeros(Ndot*3)))\n",
    "        if char == \".\":\n",
    "            sig = concatenate((sig,sdot,zeros(Ndot)))\n",
    "        if char == \"-\":\n",
    "            sig = concatenate((sig,sdah,zeros(Ndot)))\n",
    "    return sig\n",
    "            \n",
    "\n",
    "def printDevNumbers(p):\n",
    "    N = p.get_device_count()\n",
    "    for n in range(0,N):\n",
    "        name = p.get_device_info_by_index(n).get('name')\n",
    "        print n, name"
   ]
  },
  {
   "cell_type": "markdown",
   "metadata": {},
   "source": [
    "### Functions from part II\n",
    "\n",
    "Insert your \n",
    "\n",
    "`afsk1200` (from Part II)\n",
    "\n",
    "`nc_afsk1200Demod` (from Part II)\n",
    "\n",
    "`PLL` (from Part II)\n",
    "\n",
    "Below\n"
   ]
  },
  {
   "cell_type": "code",
   "execution_count": 3,
   "metadata": {
    "collapsed": false
   },
   "outputs": [],
   "source": [
    "def int2bitarray(intarray, width=8):\n",
    "    # converts an array of integers type uint8 and returns an equivalent Python bitarray.bitarray\n",
    "    bits = ''\n",
    "    for num in intarray:\n",
    "        bits += np.binary_repr(num,width)\n",
    "    bits = bitarray.bitarray(bits)\n",
    "    return bits\n",
    "\n",
    "def bits2nparray(bits):\n",
    "     # converts {0,1}^n bitarray to np array\n",
    "    return (np.fromstring((str(bits)[10:-2]),'u1') - ord('0')).astype(np.float)\n",
    "\n",
    "\n",
    "def afsk1200(bits, fs = 48000):\n",
    "    #\n",
    "    # data encoded at a data-rate of 1200b/s\n",
    "    #\n",
    "    # m(t) has value has value = 1 for a duration of a mark (@1200Hz) bit, and -1 for the duration of a space (@2200Hz) bit.\n",
    "    #\n",
    "    #\n",
    "    # the function will take a bitarray of bits and will output an AFSK1200 modulated signal of them, sampled at fs.\n",
    "    #  Inputs:\n",
    "    #         bits  - bitarray of bits\n",
    "    #         fs    - sampling rate\n",
    "    # Outputs:\n",
    "    #         sig    -  returns afsk1200 modulated signal\n",
    "\n",
    "    bits = -2*bits2nparray(bits) + 1 # want -1, +1 bits\n",
    "    bit_period = 1/1200\n",
    "    fc = 1700\n",
    "    df = 500\n",
    "    temp_rate = lcm((1200,fs)) # first generate signal at a higher frequency than fs s.t. it is a multiple of 1200.\n",
    "    repeat_bit = int(temp_rate*bit_period)\n",
    "    bits = np.hstack([ [b]*repeat_bit for b in bits ]) # bitrate is 1200b/s, so make each bit last for 1/1200 s.\n",
    "\n",
    "    integral = integrate.cumtrapz(fc + df*bits) # integral of constant dt = t*constant.\n",
    "    sig = np.cos( 2*np.pi*integral/temp_rate )\n",
    "    sig = sig[::int(temp_rate/fs)] #  downsample\n",
    "    return sig\n",
    "\n",
    "def nc_afsk1200Demod(sig, fs=48000.0, TBW=2.0, baud=1200.0):\n",
    "    #  non-coherent demodulation of afsk1200\n",
    "    # function returns the NRZ (without rectifying it)\n",
    "    # \n",
    "    # sig  - signal\n",
    "    # baud - The bitrate. Default 1200\n",
    "    # fs   - sampling rate in Hz\n",
    "    # TBW  - TBW product of the filters\n",
    "    #\n",
    "    # Returns:\n",
    "    #     NRZ \n",
    "    \n",
    "    # your code here\n",
    "    \n",
    "    # TBW calcxn kept from before, since TBW = 2\n",
    "    # TBW = (M+1)*(omega/2pi) = 2.\n",
    "    # omega = (2pi/fs)*1200*2 = 0.3414 (remember, two-sided)\n",
    "    # ==> 2 = TBW = (M+1)*0.3414/2pi\n",
    "    # ==> M = ciel(35.81)-1 = 36-1 = 35\n",
    "\n",
    "    # low pass filter \n",
    "    \n",
    "    modulator = lambda freq, t: np.exp(-2j*pi*freq*t)\n",
    "\n",
    "    taps = (int(fs/baud*TBW)//2)*2+1\n",
    "    t = r_[0:taps]/fs\n",
    "\n",
    "    # Denoise bandpass actually\n",
    "    denoise_lp = signal.firwin(taps, cutoff=800/(2*fs))*modulator(1700, t) # fc at 1700, 900-2500 passb.\n",
    "    sig = signal.fftconvolve(sig, denoise_lp, 'same')\n",
    "\n",
    "    # Band pass mark and space\n",
    "    \n",
    "    lpf = signal.firwin(taps, cutoff=baud/(2*fs))\n",
    "\n",
    "    # complex modulate to ctr around 1200 Hz and 2200 Hz\n",
    "    \n",
    "    bp1200 = lpf*modulator(1200, t)\n",
    "    bp2200 = lpf*modulator(2200, t)\n",
    "\n",
    "    mark_bits = signal.fftconvolve(sig, bp1200, 'same')\n",
    "    space_bits = signal.fftconvolve(sig, bp2200, 'same')\n",
    "\n",
    "    # here, abs(...) is envelope of (...). Difference of envelopes is NRZ; see figure 3.\n",
    "    NRZ = abs(mark_bits) - abs(space_bits)\n",
    "\n",
    "    # noise reduction: get rid of high-freq noise.\n",
    "\n",
    "    noise_rdxn_lpf = signal.firwin(taps, cutoff=1.2*baud/fs)\n",
    "    denoised_NRZ = signal.fftconvolve(NRZ, noise_rdxn_lpf, 'same')\n",
    "    \n",
    "    return denoised_NRZ\n",
    "\n",
    "\n",
    "def PLL(NRZa, a = 0.74 , fs = 48000, baud = 1200):\n",
    "    # \n",
    "    # function implements a simple phase-locked loop for timing recovery\n",
    "    # Inputs:\n",
    "    #          NRZa -   The **ANALOG** NRZ signal\n",
    "    #          a - nudge factor\n",
    "    #          fs - sampling rate (arbitrary)\n",
    "    #          baud  - the bit rate\n",
    "    #\n",
    "    # Outputs:\n",
    "    #          idx - array of indexes to sample at\n",
    "    #\n",
    "    #    np.int32(2**31-1+1) useful\n",
    "    # Your code here\n",
    "\n",
    "    counter, increment = 0, 2**32/(fs/baud)\n",
    "    \n",
    "    idx = []\n",
    "    for i in range(len(NRZa)-1):  \n",
    "        \n",
    "        if sign(np.int32(counter + increment))  == -1 and sign(np.int32(counter)) == 1: # counter overflow, so sample!\n",
    "            idx += [i]\n",
    "            \n",
    "        if sign((NRZa[i])) == 1 and sign(NRZa[i+1]) == -1:\n",
    "            counter = np.int32(counter*a)\n",
    "            \n",
    "        counter = np.int32(counter + increment)\n",
    "        \n",
    "    return np.array(idx)\n",
    "\n",
    "def decode_NRZ(demoded_bits, fs=48e3, baud=1200.0):\n",
    "    # decodes the output of nc_afsk1200Demod\n",
    "    sign_NRZ = sign(demoded_bits)\n",
    "    dig_NRZ = sign_NRZ[int((fs/baud)/2)::int(fs/baud)] # sample bits at the middle of the bit period\n",
    "    bit_dec = bitarray.bitarray((dig_NRZ>0).tolist())\n",
    "    return bit_dec\n",
    "\n",
    "def BER(bits1,bits2):\n",
    "    # Compares two bitstreams\n",
    "    # BER = # of bit errors (received bits that have been altered due to decoding error) / total # of transmitted bits.\n",
    "    assert len(bits1) == len(bits2), 'Lengths must be equal.'\n",
    "    return np.sum(bits2nparray(bits1) != bits2nparray(bits2))/len(bits1)"
   ]
  },
  {
   "cell_type": "markdown",
   "metadata": {},
   "source": [
    "Now, similarly to before, find the audio interface numbers. And intitialize the variables:\n",
    "dusb_in, dusb_out, din, dout \n",
    "\n"
   ]
  },
  {
   "cell_type": "code",
   "execution_count": 4,
   "metadata": {
    "collapsed": false
   },
   "outputs": [
    {
     "name": "stdout",
     "output_type": "stream",
     "text": [
      "0 Built-in Microph\n",
      "1 Built-in Output\n",
      "2 USB PnP Sound Device\n"
     ]
    }
   ],
   "source": [
    "p = pyaudio.PyAudio()\n",
    "printDevNumbers(p)\n",
    "p.terminate()"
   ]
  },
  {
   "cell_type": "code",
   "execution_count": 5,
   "metadata": {
    "collapsed": true
   },
   "outputs": [],
   "source": [
    "# CHANGE\n",
    "daudio_in = 0\n",
    "daudio_out = 1\n",
    "dusb_in = 2\n",
    "dusb_out = 2"
   ]
  },
  {
   "cell_type": "markdown",
   "metadata": {},
   "source": [
    "Initialize serial port"
   ]
  },
  {
   "cell_type": "code",
   "execution_count": 6,
   "metadata": {
    "collapsed": false
   },
   "outputs": [],
   "source": [
    "s = serial.Serial(port='/dev/tty.SLAB_USBtoUART')\n"
   ]
  },
  {
   "cell_type": "markdown",
   "metadata": {},
   "source": [
    "## AX.25 (from: http://n1vg.net/packet/ and http://www.tapr.org/pub_ax25.html)\n",
    "\n",
    "Before we go to demodulate AFSK1200 we will construct data in the form of AX.25 packets. The structure of the AX.25 packet, and in particular the flag that starts and ends a frame will help us sync to the beginning of the packet for accurate demodulation. \n",
    "The AX.25 protocol uses several measures for standartization and to improve detection and demodulation of packets. We will go over them now:\n",
    "\n",
    "#### NRZI (non-return to zero inverted)\n",
    "AX.25 does not encode  NRZ '1's and '0's in the usual mark and space frequencies. Instead it uses a scheme called NRZI, or non-return to zero inverted.  NRZI encodes a '0' bit as a change from mark to space, or space to mark. A '1' is encoded as no change.  To encode an AX.25 packet we need to convert our bit sequence to an NRZI one.  For example, an original bit stream of 11011000 should be first converted to 11000101 (initial state is 1). \n",
    "\n",
    "#### Bit Stuffing\n",
    "Because a '1' is represented by no change, sending a long string of '1's would result in a constant signal. This may result in a receiver drifting out of sync with the transmitter. In order to circumvent this, the encoder performs bit stuffing before transmition by placing   a bit '0' after every fifth '1' in the the stream. The decoder does bit unstuffing and removes the extra '0's. Bit stuffing is performed before converting to NRZI.\n",
    "\n",
    "#### Bit Order\n",
    "Bytes are sent least-significant-bit first\n",
    "\n",
    "#### Flag\n",
    "A Flag field starts and ends each packet. It is a unique sequence and is used to detect the beginning and the end of packets. The flag consists of the bit sequence: 0x7E or: 01111110. The flag is an exception in which no bit stuffing is performed. Therefore **it is the only place in the packet in which 6 consequitive '1's appear.** In NRZI it will translate to a time interval of 7 bits between zero-corssing of the non-coerent detector output.  This means that we can use the flag sequence to uniquly detect a packet. \n",
    "\n",
    "#### Frame Structure\n",
    "The Ax.25 protocol defines several type of frames. We will use the Un-numbered Information (UI) frame as defined in the protocol. UI frame is used for connectionless mode, where AX.25 frmaes are transmitted without expecting any response, and reception is not guaranteed. This is similar to UDP in concept (however UDP is atransport layer protocol).\n",
    "The UI frame that is used in the [Automatic Positioning and Reporting System (APRS)](http://en.wikipedia.org/wiki/Automatic_Packet_Reporting_System) protocol and has 9 fields of data:\n",
    "\n",
    "| flag | Dest. Addr. | Src. Addr. |Digipeater Addresses | Control field | ID | Information Field | FCS | Flag |\n",
    "|----:|-----------:|----------:|:------------------:|:-------------:|:--:|:-----------------:|:---:|:----:|\n",
    "|1     |     7       |     7      |    56              |       1       |  1 |     256           |  2  |  1   |\n",
    "\n",
    "Of importance are the Source address, which are your call sign, the Information Field which is the packet payload, the FCS which is a error checksum.\n",
    "\n",
    "#### FCS Field\n",
    "The FCS field is always the last two bytes in the packet. They are a checksum that can be used to determine the integrity of the packet. \n",
    "\n",
    "## APRS (information from: [Here](http://www.aprs.org/doc/APRS101.PDF) and [here](http://www.aprs.org/iss-aprs/issicons.html))\n",
    "APRS is a ham packet-based system for real-time tactical digital communication for local area. APRS uses the AX.25 protocol in its core. Using APRS you can report position, status, and send messages that other hams or stations with APRS capability will be able to decode, interpret and display the information. APRS also provides means of packet repeating (Digipeters) alongside with internet terminal nodes. Some radio manufacturers saw the potential and included APRS in some of their products as well. Go to this website: https://aprs.fi  to see the APRS activity in the surrounding area that is aggregated from the internet nodes. You will see fixed stations, weather stations as well as mobile operators in your area. We will use the website to confirm that our transmitted packets were received. \n",
    "\n",
    "### Frequencies:\n",
    "The national APRS frequency is 144.39MHz (ch-117 on your radio). There is much activity and infrastracture transmitting and listenning to that frequency. The international space station also has an APRS digipeter on board operating at 145.825MHZ (ch-50 on your radio). You can also use AX.25 on any of the digital or experimental channels in the bandplan -- though you will have to coordinate if you want anybody to hear you! \n",
    "\n",
    "#### EE123 APRS frequency\n",
    "To prevent interference with others while we experiment with APRS, I have set up an APRS station in Cory hall. It will monitor the DGTLU1 channel (ch-113),  433.550MHz on your radio. It has an internet link as well. Use this frequency first, and only if it does not work out, switch to the APRS frequency 144.39 (ch-117). We will do our best to make it work. \n",
    "\n",
    "### APRS Destination, source, digipeter address, control, ID and FCS packet fields\n",
    "For APRS packets, the Destination address field is not used for routing. Instead it represents the version of the APRS software you are using. In order to be decoded by receivers in the APRS network it must start with the letters AP. We will use **`APCAL`** just for fun. \n",
    "The source address is **your call sign**. The digipeter addresses require some explenation but the fields 'WIDE1-1,WIDE2-1' will result in the packet being digipeted a maximum of 2 hops. In dense population areas like the bay area 'WIDE1-1' is often enough to get your packet to its destination. The Control and ID fields in APRS packets are fixed to \"\\x03\" and \"\\xF0\" respectively. The FCS field is the checksum field, that is used to verify the packet integrity, as defined by AX.25. The flag fields are the usual 01111110.\n",
    "\n",
    "We have prepared for you code that generates valid bitstream of AX.25 packets from the appropriate fields as well as decode the fields from a bitstream. The code is a modification of code originally written by: Greg Albrecht W2GMD. You will have to download the code from the class website\n",
    "\n",
    "Below is code that will download it for you:\n"
   ]
  },
  {
   "cell_type": "code",
   "execution_count": 7,
   "metadata": {
    "collapsed": false
   },
   "outputs": [],
   "source": [
    "# import urllib, ssl\n",
    "# testfile = urllib.URLopener()\n",
    "# testfile.context = ssl._create_unverified_context()\n",
    "# testfile.retrieve(\"https://inst.eecs.berkeley.edu/~ee123/sp16/lab/lab5/ax25.py\", 'ax25.py')"
   ]
  },
  {
   "cell_type": "markdown",
   "metadata": {},
   "source": [
    " \n",
    "### The APRS informatrion field\n",
    "The information field of the packet are 256 Bytes payload that contain the information you want to send. We will go over some of the information that is needed to construct valid and useful information field messeges. There are several digipeters in the bay area that have internet terminal nodes. These implement several \"fun\" and useful services. For example, you can send a position report that would show up on a google map. You can also send a short EMAIL or an SMS test message by sending an APRS packet. In fact, we have out own on Cory Hall!\n",
    "\n",
    "How a node or a client interprets your packet depends on the information field structure. There are three types of packets: Position, Status and Messages\n",
    "#### Messages\n",
    "\n",
    "Just begin your packet line with a Colon and a 9 character TOADDRESS, another colon and then text. \n",
    "The TOADDRESS must have 9 characters and should be filled with spaces if it is smaller. \n",
    "\n",
    "Examples of messages:\n",
    "\n",
    "* :ALL------:Everyone will capture this 64 byte message text.\n",
    "* :KK6MRI---:This message will only show on Miki's APRS enabled Yaezu VX-8dr radio screen\n",
    "* :EMAIL----:mlustig@eecs.berkeley.edu I sent you an email Miki through an OpenAPRS node!\n",
    "\n",
    "The \"-----\" are blank spaces to fill the space to 9 characters.  \n",
    "\n",
    "#### Position\n",
    "You can report your position to people on the APRS system. If your report is picked up by a node it will show up on http://www.aprs.fi. The basic format of a position packet is:\n",
    "\n",
    "| ! or = symbols | Lattitude 8 chars | / | Longitude 9 chars| icon 1 char| Comment max 43 chars |\n",
    "|---------------|-------------------|---|------------------|------------|----------------------|\n",
    "| =             | 3752.50N|        /| 12215.43W|            K|Shows a school symbol on Cory Hall position|\n",
    "| =             |3752.45N |/|12215.98W|[|Shows a person walking on Oxford and Hearst|\n",
    "| =             |2759.16N |/|08655.30E|[|I'm on the top of the world! (Mt. Everest)|\n",
    "\n",
    "The latitude format is expressed as a fixed 8-character field, in degrees and decimal minutes (up to two decimal places), followed by a letter N for north and S for south. Latitude minutes are expressed as whole minutes and hundredth of a minute, separated by a decimal point. Longitude is expressed as a fixed 9-character field, in degrees and decimal minutes (to two decimal places), followed by the letter E for east or W for west. Longitude degrees are in the range 000 to 180. Longitude minutes are expressed as whole minutes and hundredths of a minute, separated by a decimal point.\n",
    "\n",
    "In generic format:\n",
    "\n",
    "* Latitude is expressed as: ddmm.hhN (i.e. degrees, minutes and hundredths of a minute north)\n",
    "* Longitude is expressed as: dddmm.hhW (i.e. degrees, minutes and hundredths of a minute west)\n",
    "\n",
    "For example Cory Hall is at N37° 52.5022', W122° 15.4395'. So the position is encoded as:\n",
    "3752.50N/12215.43W\n",
    "\n",
    "You can go to http://www.gpsvisualizer.com/geocode to find the coordinates of an address. Note: use the degree, minutes representation, not the decimal one. \n",
    "\n",
    "a 1 character icon is provided after the coordinates. This will show an icon on the http://aprs.fi maps. Here are some useful ones:\n",
    "\n",
    "* \\- House with a VHF vertical\n",
    "*  < Motorcycle\n",
    "* \\> Car\n",
    "* Y Sailboat\n",
    "* b Bike\n",
    "* [ Jogger, walker, runner\n",
    "* X Helo\n",
    "* K School\n",
    "\n",
    "Examples:\n",
    "\n",
    "a school symbol \n",
    "* =3752.50N/12215.43WKShows a school symbol on Cory Hall position.\n",
    "* =3752.45N/12215.98W[Shows a person walking on Oxford and Hearst\n",
    "* =3752.❏❏N/12215.❏❏-Shows a house symbol somewhere in Berkeley.\n",
    "\n",
    "** The empty squares ❏ represent space charcter **\n",
    "\n",
    "#### Status\n",
    "A status packet starts with '>' character. It wil show on APRS equipped radios. \n",
    "\n",
    "Examples:\n",
    "\n",
    "*  \\>I like radios\n",
    "*  \\>Monitoring 146.430MHz PL 66\n",
    "*  \\>On My way home\n",
    "\n"
   ]
  },
  {
   "cell_type": "markdown",
   "metadata": {},
   "source": [
    "## Your first APRS packet\n",
    "In the following section we will construct a valid (bitstuffed) bitstream from the different APRS packet fields. We will convert to an NRZI representation and modulate to generate a valid AFSK1200 APRS Packet. We will transmit it over the radio and look at http://aprs.fi to see if it was received by a node. \n",
    "\n",
    "### Bitstream from APRS fields\n",
    "\n",
    "The following code shows you how to construct a message packet that will tell a digipeter to send you an email. Make sure you fill the correct information in the fields. The bitstream will already be bitsuffed with zeroes. \n"
   ]
  },
  {
   "cell_type": "code",
   "execution_count": 8,
   "metadata": {
    "collapsed": false
   },
   "outputs": [],
   "source": [
    "ax25.UI?"
   ]
  },
  {
   "cell_type": "code",
   "execution_count": 7,
   "metadata": {
    "collapsed": false
   },
   "outputs": [
    {
     "name": "stdout",
     "output_type": "stream",
     "text": [
      "bitarray('0111111001000001000001010110000101000001000110010000001000000110011010010101100100110110001000010010100101010101000001100111010101001001000100010101000101000110000000100100011001110101010010010001000101010001001001100000001011000110110000000000111101011100110010101011001011001010111000100010101010100010000001000000010000000100010111000000001000101100010011001010110011001100101011000000110000011100001011000001110001001100000001000001001010010110000001001000001000110110101001100001111000110100000001000010111000010110100101101100111000000100100101101100111000000100100000100011011010100110000111100000010011101010100001100011011011000110010111101000011011010110011101000000010000101010000101101001011011001110000001000011011010000110010001100000010010010110110011100000010000101110000101101010011000000100010001101010011011001110001011100000010010011110101001100010111010000100011011010000000101111110')\n"
     ]
    }
   ],
   "source": [
    "callsign = \"KM6BJU\"\n",
    "Digi =b'WIDE1-1,WIDE2-1'\n",
    "dest = \"APCAL\"\n",
    "\n",
    "# Uncomment to Send Email\n",
    "#info = \":EMAIL    :mlustig@eecs.berkeley.edu Hi, its YOURNAME, what a great lab!\"\n",
    "\n",
    "# Uncomment to Send an SMS message to a phone number (update the number!)\n",
    "\n",
    "info = \":SMSGTE   :@4253508482 Hi Alex, this is Alex Walczak. This lab is the best yet!\"\n",
    "#info = \":SMSGTE   :@5108594141 Hi Miki, this is Alex Walczak. This lab is the best yet!\"\n",
    "\n",
    "#uncomment to show yourself on mt everest\n",
    "#info = \"=2759.16N/08655.30E[I'm on the top of the world\"\n",
    "\n",
    "#uncomment to send to everyone on the APRS system near you\n",
    "#info = \":ALL      : CQCQCQ I would like to talk to you!\"\n",
    "\n",
    "\n",
    "# uncomment to report position\n",
    "#info = \"=3752.50N/12215.43WlIm using a laptop in Cory Hall!\"\n",
    "\n",
    "# uncomment to send a status message\n",
    "#info = \">I like radios\"\n",
    "\n",
    "packet = ax25.UI(\n",
    "\t\tdestination=dest,\n",
    "\t\tsource=callsign, \n",
    "\t\tinfo=info,\n",
    "\t\tdigipeaters=Digi.split(b','),\n",
    "        )\n",
    "print(packet.unparse())"
   ]
  },
  {
   "cell_type": "markdown",
   "metadata": {},
   "source": [
    "### Converting a stream of bits to NRZI (zeros represent by change of 0-1 or 1-0 and ones are no change)\n",
    "Recall that AX.25 packets are sent with NRZI encoding in which a '0' is a change and a '1' is no change. \n",
    "\n",
    "* The following function `NRZI = NRZ2NRZI(bits)`,  takes a standard bitarray stream and converts it to a bitarray stream representing '0's as change and '1's as unchanged. For example, an input of 0000111100 will result in 0101111101. This assume an initial state of '1'. \n",
    "* The function `NRZI2NRZ(NRZI, current = True)`, takes an NRZI bitstream and converts it to an NRZ. It assumes an inital state of `current` with default `current=1`.\n"
   ]
  },
  {
   "cell_type": "code",
   "execution_count": 7,
   "metadata": {
    "collapsed": false
   },
   "outputs": [],
   "source": [
    "def NRZ2NRZI(NRZ):\n",
    "    NRZI = NRZ.copy() \n",
    "    current = True\n",
    "    for n in range(0,len(NRZ)):\n",
    "        if NRZ[n] :\n",
    "            NRZI[n] = current\n",
    "        else:\n",
    "            NRZI[n] = not(current)\n",
    "        current = NRZI[n]\n",
    "    return NRZI\n",
    "\n",
    "def NRZI2NRZ(NRZI, current = True):\n",
    "    NRZ = NRZI.copy() \n",
    "    for n in range(0,len(NRZI)):\n",
    "        NRZ[n] = NRZI[n] == current\n",
    "        current = NRZI[n]\n",
    "    return NRZ"
   ]
  },
  {
   "cell_type": "markdown",
   "metadata": {},
   "source": [
    "### Constructing and Transmitting an APRS AX.25 Packet. \n",
    "\n",
    "Most packet radio and TNC's will pad packets with extra `flag` sequences before and after the packet, to allow for synchronization. Rarely, the padding would be with zero-bit sequences (This will translate into alternating between Mark and Space which also helps with synchronization). Zero-padding is a deviation from the APRS protocol, but is allowed in most receivers. We will also pad our packets. \n",
    "\n",
    "#### Task:\n",
    "* Pad your packet with 20 flags in the begining and at the end.\n",
    "* Construct an afsk1200 signal at a sampling rate of 48KHz out of the padded APRS packet we constructed. \n",
    "* Play the audio on your computer speaker. It will sound like an old modem (which is what it is!)\n",
    "* Plot its spectrogram with a window size of 80 samples (2 bits). You should be able to see the bits.\n",
    "\n",
    "Here's a python trick to generate 20 flags\n",
    "\n",
    "`prefix = bitarray.bitarray(tile([0,1,1,1,1,1,1,0],(20,)).tolist())`\n"
   ]
  },
  {
   "cell_type": "code",
   "execution_count": 9,
   "metadata": {
    "collapsed": false,
    "scrolled": false
   },
   "outputs": [
    {
     "ename": "NameError",
     "evalue": "name 'packet' is not defined",
     "output_type": "error",
     "traceback": [
      "\u001b[0;31m---------------------------------------------------------------------------\u001b[0m",
      "\u001b[0;31mNameError\u001b[0m                                 Traceback (most recent call last)",
      "\u001b[0;32m<ipython-input-9-25edd5589ee4>\u001b[0m in \u001b[0;36m<module>\u001b[0;34m()\u001b[0m\n\u001b[1;32m      1\u001b[0m \u001b[0;31m# your code\u001b[0m\u001b[0;34m\u001b[0m\u001b[0;34m\u001b[0m\u001b[0m\n\u001b[1;32m      2\u001b[0m \u001b[0mprefix\u001b[0m \u001b[0;34m=\u001b[0m \u001b[0mbitarray\u001b[0m\u001b[0;34m.\u001b[0m\u001b[0mbitarray\u001b[0m\u001b[0;34m(\u001b[0m\u001b[0mtile\u001b[0m\u001b[0;34m(\u001b[0m\u001b[0;34m[\u001b[0m\u001b[0;36m0\u001b[0m\u001b[0;34m,\u001b[0m\u001b[0;36m1\u001b[0m\u001b[0;34m,\u001b[0m\u001b[0;36m1\u001b[0m\u001b[0;34m,\u001b[0m\u001b[0;36m1\u001b[0m\u001b[0;34m,\u001b[0m\u001b[0;36m1\u001b[0m\u001b[0;34m,\u001b[0m\u001b[0;36m1\u001b[0m\u001b[0;34m,\u001b[0m\u001b[0;36m1\u001b[0m\u001b[0;34m,\u001b[0m\u001b[0;36m0\u001b[0m\u001b[0;34m]\u001b[0m\u001b[0;34m,\u001b[0m\u001b[0;34m(\u001b[0m\u001b[0;36m20\u001b[0m\u001b[0;34m,\u001b[0m\u001b[0;34m)\u001b[0m\u001b[0;34m)\u001b[0m\u001b[0;34m.\u001b[0m\u001b[0mtolist\u001b[0m\u001b[0;34m(\u001b[0m\u001b[0;34m)\u001b[0m\u001b[0;34m)\u001b[0m\u001b[0;34m\u001b[0m\u001b[0m\n\u001b[0;32m----> 3\u001b[0;31m \u001b[0mpadded\u001b[0m \u001b[0;34m=\u001b[0m \u001b[0mint2bitarray\u001b[0m\u001b[0;34m(\u001b[0m\u001b[0mnp\u001b[0m\u001b[0;34m.\u001b[0m\u001b[0mhstack\u001b[0m\u001b[0;34m(\u001b[0m\u001b[0;34m[\u001b[0m\u001b[0mbits2nparray\u001b[0m\u001b[0;34m(\u001b[0m\u001b[0mprefix\u001b[0m\u001b[0;34m)\u001b[0m\u001b[0;34m,\u001b[0m\u001b[0mbits2nparray\u001b[0m\u001b[0;34m(\u001b[0m\u001b[0mNRZ2NRZI\u001b[0m\u001b[0;34m(\u001b[0m\u001b[0mpacket\u001b[0m\u001b[0;34m.\u001b[0m\u001b[0munparse\u001b[0m\u001b[0;34m(\u001b[0m\u001b[0;34m)\u001b[0m\u001b[0;34m)\u001b[0m\u001b[0;34m)\u001b[0m\u001b[0;34m,\u001b[0m\u001b[0mbits2nparray\u001b[0m\u001b[0;34m(\u001b[0m\u001b[0mprefix\u001b[0m\u001b[0;34m)\u001b[0m\u001b[0;34m]\u001b[0m\u001b[0;34m)\u001b[0m\u001b[0;34m,\u001b[0m \u001b[0mwidth\u001b[0m\u001b[0;34m=\u001b[0m\u001b[0;36m1\u001b[0m\u001b[0;34m)\u001b[0m\u001b[0;34m\u001b[0m\u001b[0m\n\u001b[0m\u001b[1;32m      4\u001b[0m \u001b[0mmsg\u001b[0m \u001b[0;34m=\u001b[0m \u001b[0mafsk1200\u001b[0m\u001b[0;34m(\u001b[0m\u001b[0mpadded\u001b[0m\u001b[0;34m,\u001b[0m \u001b[0mfs\u001b[0m\u001b[0;34m=\u001b[0m\u001b[0;36m48e3\u001b[0m\u001b[0;34m)\u001b[0m\u001b[0;34m\u001b[0m\u001b[0m\n\u001b[1;32m      5\u001b[0m \u001b[0;34m\u001b[0m\u001b[0m\n",
      "\u001b[0;31mNameError\u001b[0m: name 'packet' is not defined"
     ]
    }
   ],
   "source": [
    "# your code\n",
    "prefix = bitarray.bitarray(tile([0,1,1,1,1,1,1,0],(20,)).tolist())\n",
    "padded = int2bitarray(np.hstack([bits2nparray(prefix),bits2nparray(NRZ2NRZI(packet.unparse())),bits2nparray(prefix)]), width=1)\n",
    "msg = afsk1200(padded, fs=48e3)\n",
    "\n",
    "# code for playing audio\n",
    "p = pyaudio.PyAudio()\n",
    "Q = Queue.Queue()\n",
    "ctrlQ = Queue.Queue()  # dummy, but necessary!\n",
    "\n",
    "Q.put(msg*0.5)\n",
    "Q.put('EOT')\n",
    "\n",
    "play_audio(Q, ctrlQ,  p, 48000, daudio_out)\n",
    "p.terminate()"
   ]
  },
  {
   "cell_type": "code",
   "execution_count": 10,
   "metadata": {
    "collapsed": false
   },
   "outputs": [
    {
     "name": "stderr",
     "output_type": "stream",
     "text": [
      "/usr/local/lib/python2.7/site-packages/ipykernel/__main__.py:56: DeprecationWarning: using a non-integer number instead of an integer will result in an error in the future\n",
      "/usr/local/lib/python2.7/site-packages/ipykernel/__main__.py:71: DeprecationWarning: using a non-integer number instead of an integer will result in an error in the future\n"
     ]
    },
    {
     "name": "stdout",
     "output_type": "stream",
     "text": [
      "1\n"
     ]
    },
    {
     "data": {
      "image/png": "[encoded data removed]",
      "text/plain": [
       "<matplotlib.figure.Figure at 0x10e996b50>"
      ]
     },
     "metadata": {},
     "output_type": "display_data"
    }
   ],
   "source": [
    "window = 80\n",
    "fs = 48e3\n",
    "myspectrogram_hann_ovlp(msg, window, fs, fc=0, dbf=30);"
   ]
  },
  {
   "cell_type": "markdown",
   "metadata": {},
   "source": [
    "#### Task:\n",
    "\n",
    "* Make sure the USB interface is connected and that the audio device numbers are correct. \n",
    "* Connect the interface you your radio input.\n",
    "* Tune your radio to the EE123 APRS frequency: ch-113 on your radio, 433.550MHz, or to the APRS national frequency: 144.39MHz or Channel 117 on your radio. \n",
    "* Send the APRS packet through your radio. As always it is better to be outside in a high place. If you are near Cory Hall you should be OK, we have an APRS internet gateway in Cory, and there are several others in the area as well.\n",
    "* Sometimes it is useful to send the packet twice, just to make sure it goes through. \n",
    "* Make sure your output volume and settings are the \"Good choice\" you calibrated in part I of the lab. This means you need to scale your audio by a factor <1.0 I use 0.2 \n",
    "* Be very carefull that your radio is operating appropriately, i.e., not getting stuck in transmit etc. We do not wish to interfere with the APRS network!\n",
    "* When using `play_audio` use the option `keydelay=0.3` This will add a delay of 300ms between keying and playing the sound. If it works for you, you can later reduce it, or use the default which is 100ms. The idea here is to let time for the power amplifier to ramp up before transmitting. Padding the packet also helps. \n",
    "\n",
    "** You do not need to identify yourself, since your packet already does identify you!**\n",
    "\n",
    "\n"
   ]
  },
  {
   "cell_type": "code",
   "execution_count": 15,
   "metadata": {
    "collapsed": false
   },
   "outputs": [
    {
     "ename": "IOError",
     "evalue": "[Errno Internal PortAudio error] -9986",
     "output_type": "error",
     "traceback": [
      "\u001b[0;31m---------------------------------------------------------------------------\u001b[0m",
      "\u001b[0;31mIOError\u001b[0m                                   Traceback (most recent call last)",
      "\u001b[0;32m<ipython-input-15-6eac67b5d5d0>\u001b[0m in \u001b[0;36m<module>\u001b[0;34m()\u001b[0m\n\u001b[1;32m      9\u001b[0m \u001b[0mQout\u001b[0m\u001b[0;34m.\u001b[0m\u001b[0mput\u001b[0m\u001b[0;34m(\u001b[0m\u001b[0;34m\"EOT\"\u001b[0m\u001b[0;34m)\u001b[0m\u001b[0;34m\u001b[0m\u001b[0m\n\u001b[1;32m     10\u001b[0m \u001b[0;34m\u001b[0m\u001b[0m\n\u001b[0;32m---> 11\u001b[0;31m \u001b[0mplay_audio\u001b[0m\u001b[0;34m(\u001b[0m \u001b[0mQout\u001b[0m \u001b[0;34m,\u001b[0m\u001b[0mctrlQ\u001b[0m \u001b[0;34m,\u001b[0m\u001b[0mp\u001b[0m\u001b[0;34m,\u001b[0m \u001b[0;36m48000\u001b[0m \u001b[0;34m,\u001b[0m \u001b[0mdusb_out\u001b[0m\u001b[0;34m,\u001b[0m \u001b[0ms\u001b[0m\u001b[0;34m,\u001b[0m \u001b[0mkeydelay\u001b[0m\u001b[0;34m=\u001b[0m\u001b[0;36m0.3\u001b[0m\u001b[0;34m)\u001b[0m\u001b[0;34m\u001b[0m\u001b[0m\n\u001b[0m\u001b[1;32m     12\u001b[0m \u001b[0;34m\u001b[0m\u001b[0m\n\u001b[1;32m     13\u001b[0m \u001b[0mtime\u001b[0m\u001b[0;34m.\u001b[0m\u001b[0msleep\u001b[0m\u001b[0;34m(\u001b[0m\u001b[0;36m1\u001b[0m\u001b[0;34m)\u001b[0m\u001b[0;34m\u001b[0m\u001b[0m\n",
      "\u001b[0;32m<ipython-input-2-9e3b792f8e5b>\u001b[0m in \u001b[0;36mplay_audio\u001b[0;34m(Q, ctrlQ, p, fs, dev, ser, keydelay)\u001b[0m\n\u001b[1;32m     97\u001b[0m \u001b[0;34m\u001b[0m\u001b[0m\n\u001b[1;32m     98\u001b[0m     \u001b[0;31m# open output stream\u001b[0m\u001b[0;34m\u001b[0m\u001b[0;34m\u001b[0m\u001b[0m\n\u001b[0;32m---> 99\u001b[0;31m     \u001b[0mostream\u001b[0m \u001b[0;34m=\u001b[0m \u001b[0mp\u001b[0m\u001b[0;34m.\u001b[0m\u001b[0mopen\u001b[0m\u001b[0;34m(\u001b[0m\u001b[0mformat\u001b[0m\u001b[0;34m=\u001b[0m\u001b[0mpyaudio\u001b[0m\u001b[0;34m.\u001b[0m\u001b[0mpaFloat32\u001b[0m\u001b[0;34m,\u001b[0m \u001b[0mchannels\u001b[0m\u001b[0;34m=\u001b[0m\u001b[0;36m1\u001b[0m\u001b[0;34m,\u001b[0m \u001b[0mrate\u001b[0m\u001b[0;34m=\u001b[0m\u001b[0mint\u001b[0m\u001b[0;34m(\u001b[0m\u001b[0mfs\u001b[0m\u001b[0;34m)\u001b[0m\u001b[0;34m,\u001b[0m\u001b[0moutput\u001b[0m\u001b[0;34m=\u001b[0m\u001b[0mTrue\u001b[0m\u001b[0;34m,\u001b[0m\u001b[0moutput_device_index\u001b[0m\u001b[0;34m=\u001b[0m\u001b[0mdev\u001b[0m\u001b[0;34m)\u001b[0m\u001b[0;34m\u001b[0m\u001b[0m\n\u001b[0m\u001b[1;32m    100\u001b[0m     \u001b[0;31m# play audio\u001b[0m\u001b[0;34m\u001b[0m\u001b[0;34m\u001b[0m\u001b[0m\n\u001b[1;32m    101\u001b[0m     \u001b[0;32mwhile\u001b[0m \u001b[0;34m(\u001b[0m\u001b[0;36m1\u001b[0m\u001b[0;34m)\u001b[0m\u001b[0;34m:\u001b[0m\u001b[0;34m\u001b[0m\u001b[0m\n",
      "\u001b[0;32m/Library/Python/2.7/site-packages/pyaudio.pyc\u001b[0m in \u001b[0;36mopen\u001b[0;34m(self, *args, **kwargs)\u001b[0m\n\u001b[1;32m    745\u001b[0m         \"\"\"\n\u001b[1;32m    746\u001b[0m \u001b[0;34m\u001b[0m\u001b[0m\n\u001b[0;32m--> 747\u001b[0;31m         \u001b[0mstream\u001b[0m \u001b[0;34m=\u001b[0m \u001b[0mStream\u001b[0m\u001b[0;34m(\u001b[0m\u001b[0mself\u001b[0m\u001b[0;34m,\u001b[0m \u001b[0;34m*\u001b[0m\u001b[0margs\u001b[0m\u001b[0;34m,\u001b[0m \u001b[0;34m**\u001b[0m\u001b[0mkwargs\u001b[0m\u001b[0;34m)\u001b[0m\u001b[0;34m\u001b[0m\u001b[0m\n\u001b[0m\u001b[1;32m    748\u001b[0m         \u001b[0mself\u001b[0m\u001b[0;34m.\u001b[0m\u001b[0m_streams\u001b[0m\u001b[0;34m.\u001b[0m\u001b[0madd\u001b[0m\u001b[0;34m(\u001b[0m\u001b[0mstream\u001b[0m\u001b[0;34m)\u001b[0m\u001b[0;34m\u001b[0m\u001b[0m\n\u001b[1;32m    749\u001b[0m         \u001b[0;32mreturn\u001b[0m \u001b[0mstream\u001b[0m\u001b[0;34m\u001b[0m\u001b[0m\n",
      "\u001b[0;32m/Library/Python/2.7/site-packages/pyaudio.pyc\u001b[0m in \u001b[0;36m__init__\u001b[0;34m(self, PA_manager, rate, channels, format, input, output, input_device_index, output_device_index, frames_per_buffer, start, input_host_api_specific_stream_info, output_host_api_specific_stream_info, stream_callback)\u001b[0m\n\u001b[1;32m    440\u001b[0m \u001b[0;34m\u001b[0m\u001b[0m\n\u001b[1;32m    441\u001b[0m         \u001b[0;31m# calling pa.open returns a stream object\u001b[0m\u001b[0;34m\u001b[0m\u001b[0;34m\u001b[0m\u001b[0m\n\u001b[0;32m--> 442\u001b[0;31m         \u001b[0mself\u001b[0m\u001b[0;34m.\u001b[0m\u001b[0m_stream\u001b[0m \u001b[0;34m=\u001b[0m \u001b[0mpa\u001b[0m\u001b[0;34m.\u001b[0m\u001b[0mopen\u001b[0m\u001b[0;34m(\u001b[0m\u001b[0;34m**\u001b[0m\u001b[0marguments\u001b[0m\u001b[0;34m)\u001b[0m\u001b[0;34m\u001b[0m\u001b[0m\n\u001b[0m\u001b[1;32m    443\u001b[0m \u001b[0;34m\u001b[0m\u001b[0m\n\u001b[1;32m    444\u001b[0m         \u001b[0mself\u001b[0m\u001b[0;34m.\u001b[0m\u001b[0m_input_latency\u001b[0m \u001b[0;34m=\u001b[0m \u001b[0mself\u001b[0m\u001b[0;34m.\u001b[0m\u001b[0m_stream\u001b[0m\u001b[0;34m.\u001b[0m\u001b[0minputLatency\u001b[0m\u001b[0;34m\u001b[0m\u001b[0m\n",
      "\u001b[0;31mIOError\u001b[0m: [Errno Internal PortAudio error] -9986"
     ]
    }
   ],
   "source": [
    "p = pyaudio.PyAudio()\n",
    "\n",
    "Qout = Queue.Queue()\n",
    "ctrlQ = Queue.Queue()\n",
    "\n",
    "Qout.put(\"KEYON\")\n",
    "Qout.put(msg*0.3)  # pick the gain that you calibrated in lab 5 part I\n",
    "Qout.put(\"KEYOFF\")\n",
    "Qout.put(\"EOT\")\n",
    "\n",
    "play_audio( Qout ,ctrlQ ,p, 48000 , dusb_out, s, keydelay=0.3)\n",
    "\n",
    "time.sleep(1)\n",
    "p.terminate()"
   ]
  },
  {
   "cell_type": "markdown",
   "metadata": {},
   "source": [
    "#### Important:\n",
    "\n",
    "* Did you get an email? SMS? If so, try sending a position report and check in https://aprs.fi. You can also search for your callsign, and then press the raw-packets link. It will show you all the packets received from you in the last 48 hours.\n",
    "\n",
    "\n",
    "\n",
    "#### Task:\n",
    "\n",
    "* Please send an SMS message using the radio to (510) 859-4141, give your name and a comment. I've created this google voice account for this purpose. "
   ]
  },
  {
   "cell_type": "markdown",
   "metadata": {},
   "source": [
    "## Decodeing AX.25 and APRS Packets\n",
    "\n",
    "Now that we know how to create AX.25 and APRS packets, know how to AFSK1200 modulate them, know how to demodulate AFSK1200 as well, we can move forward to receiving and decoding packets. By the end of that we will have a fully functioning communication system.\n",
    "\n",
    "Download the file `ISSpkt.wav`. It contains an APRS packet I recorded on one of the ISS flybyes. Load it to your workspace using the function `wavread`, which we imported from `scipy.io`.\n",
    "(ISSpkt.wav) \n"
   ]
  },
  {
   "cell_type": "code",
   "execution_count": 22,
   "metadata": {
    "collapsed": false
   },
   "outputs": [],
   "source": [
    "# testfile = urllib.URLopener()\n",
    "# testfile.context = ssl._create_unverified_context()\n",
    "# testfile.retrieve(\"https://inst.eecs.berkeley.edu/~ee123/sp16/lab/lab5/ISSpkt.wav\", 'ISSpkt.wav')"
   ]
  },
  {
   "cell_type": "code",
   "execution_count": 13,
   "metadata": {
    "collapsed": true
   },
   "outputs": [],
   "source": [
    "fs,sig = wavread(\"ISSpkt.wav\")"
   ]
  },
  {
   "cell_type": "markdown",
   "metadata": {},
   "source": [
    "We will now automate the packet decoding by writing some functions that implement portions of the process.\n",
    "\n",
    "* Run the function `nc_afsk1200Demod` on the ISS packet to get the demodulated \"analog\" NRZI\n",
    "* Plot the signal. It should look like a signal with $\\pm1$ switching!"
   ]
  },
  {
   "cell_type": "code",
   "execution_count": 16,
   "metadata": {
    "collapsed": false
   },
   "outputs": [
    {
     "data": {
      "text/plain": [
       "<matplotlib.text.Text at 0x107f4d7d0>"
      ]
     },
     "execution_count": 16,
     "metadata": {},
     "output_type": "execute_result"
    },
    {
     "data": {
      "image/png": "[encoded data removed]",
      "text/plain": [
       "<matplotlib.figure.Figure at 0x10a728b10>"
      ]
     },
     "metadata": {},
     "output_type": "display_data"
    }
   ],
   "source": [
    "# your code\n",
    "NRZIa = nc_afsk1200Demod(sig, fs=fs)\n",
    "plot(NRZIa[:4000])\n",
    "title('First 4000 samples of ISS Analog NRZI')"
   ]
  },
  {
   "cell_type": "code",
   "execution_count": 17,
   "metadata": {
    "collapsed": false
   },
   "outputs": [
    {
     "data": {
      "text/plain": [
       "array([ 405.54842012,  445.01327098,  486.11510251, ...,  -76.58604843,\n",
       "        -68.21410055,  -60.3288829 ])"
      ]
     },
     "execution_count": 17,
     "metadata": {},
     "output_type": "execute_result"
    }
   ],
   "source": [
    "NRZIa"
   ]
  },
  {
   "cell_type": "markdown",
   "metadata": {},
   "source": [
    "### Decoding Bits from the Demodulated NRZI Signal\n",
    "\n",
    "Once we demodulated the signal, the next task is to sample and look for packets in it! There are many ways to do so. We chose one similar to the DireWolfe implementation:\n",
    "\n",
    "* Use the PLL to determine where to sample and get an output NRZI bitstream.\n",
    "* Convert the NRZI to NRZ\n",
    "* Search the bits and look for flags that indicate the existance of a packet. Of course, there may be many false detection. Hence, consider any flag is end of a packet, or beginning of a new one.\n",
    "* Discard packets that are too short, or that the checksum does not match.\n",
    "\n",
    "Below are several functions we wrote for you:\n",
    "\n",
    "* `findPackets(bits)` - Searches a bitstream for possible valid packets\n",
    "* `genfcs(bits)` - generates a checksum for validating packets\n",
    "* `decodeAX25(bits)`  - Parses a packet bitstream into fields and decodes them\n",
    "\n",
    "Study well these functions, and in particularly `findPackets(bits)`. You will need to modify it when performing stream processing.\n"
   ]
  },
  {
   "cell_type": "code",
   "execution_count": 8,
   "metadata": {
    "collapsed": false
   },
   "outputs": [],
   "source": [
    "def findPackets(bits):\n",
    "        # function take a bitarray and looks for AX.25 packets in it. \n",
    "        # It implements a 2-state machine of searching for flag or collecting packets\n",
    "                \n",
    "        flg = bitarray.bitarray([0,1,1,1,1,1,1,0])\n",
    "        packets = []\n",
    "        n = 0\n",
    "        pktcounter = 0\n",
    "        packet = []\n",
    "        state = 'search'\n",
    "        \n",
    "        # Loop over bits\n",
    "        while (n < len(bits)-7) :\n",
    "            \n",
    "            # default state is searching for packets\n",
    "            if state is 'search':\n",
    "                \n",
    "                # look for 1111110, because can't be sure if the first zero is decoded\n",
    "                # well if the packet is not padded.\n",
    "                if bits[n:n+7] == flg[1:]:\n",
    "                    \n",
    "                    # flag detected, so switch state to collecting bits in a packet\n",
    "                    # start by copying the flag to the packet\n",
    "                    # start counter to count the number of bits in the packet\n",
    "                    state = 'pkt'\n",
    "                    packet=flg.copy()\n",
    "                    pktcounter = 8                    \n",
    "                    # Advance to the end of the flag\n",
    "                    n = n + 7\n",
    "                else:\n",
    "                    # flag was not found, advance by 1\n",
    "                    n = n + 1            \n",
    "        \n",
    "            # state is to collect packet data. \n",
    "            elif state is 'pkt':\n",
    "                \n",
    "                # Check if we reached a flag by comparing with 0111111\n",
    "                # 6 times ones is not allowed in a packet, hence it must be a flag (if there's no error)\n",
    "                if bits[n:n+7] == flg[:7]:\n",
    "                    # Flag detected, check if packet is longer than some minimum\n",
    "                    if pktcounter > 200:\n",
    "                        # End of packet reached! append packet to list and switch to searching state\n",
    "                        # We don't advance pointer since this our packet might have been\n",
    "                        # flase detection and this flag could be the beginning of a real packet\n",
    "                        state = 'search'\n",
    "                        packet.extend(flg)\n",
    "                        packets.append(packet.copy())\n",
    "                    else:\n",
    "                        # packet is too short! false alarm. Keep searching \n",
    "                        # We don't advance pointer since this this flag could be the beginning of a real packet\n",
    "                        state = 'search'\n",
    "                # No flag, so collect the bit and add to the packet\n",
    "                else:\n",
    "                    # check if packet is too long... if so, must be false alarm\n",
    "                    if pktcounter < 2680:\n",
    "                        # Not a false alarm, collect the bit and advance pointer                        \n",
    "                        packet.append(bits[n])\n",
    "                        pktcounter = pktcounter + 1\n",
    "                        n = n + 1\n",
    "                    else:  \n",
    "                        #runaway packet, switch state to searching, and advance pointer\n",
    "                        state = 'search'\n",
    "                        n = n + 1\n",
    "        return packets\n",
    "\n",
    "# function to generate a checksum for validating packets\n",
    "def genfcs(bits):\n",
    "    # Generates a checksum from packet bits\n",
    "    fcs = ax25.FCS()\n",
    "    for bit in bits:\n",
    "        fcs.update_bit(bit)\n",
    "    \n",
    "    digest = bitarray.bitarray(endian=\"little\")\n",
    "    digest.frombytes(fcs.digest())\n",
    "\n",
    "    return digest\n",
    "\n",
    "# function to parse packet bits to information\n",
    "def decodeAX25(bits):\n",
    "    ax = ax25.AX25()\n",
    "    ax.info = \"bad packet\"\n",
    "    \n",
    "    \n",
    "    bitsu = ax25.bit_unstuff(bits[8:-8])\n",
    "    \n",
    "    if (genfcs(bitsu[:-16]).tobytes() == bitsu[-16:].tobytes()) == False:\n",
    "        #print(\"failed fcs\")\n",
    "        return ax\n",
    "    \n",
    "    bytes = bitsu.tobytes()\n",
    "    ax.destination = ax.callsign_decode(bitsu[:56])\n",
    "    source = ax.callsign_decode(bitsu[56:112])\n",
    "    if source[-1].isdigit() and source[-1]!=\"0\":\n",
    "        ax.source = b\"\".join((source[:-1],'-',source[-1]))\n",
    "    else:\n",
    "        ax.source = source[:-1]\n",
    "    \n",
    "    digilen=0\n",
    "    \n",
    "    if bytes[14]=='\\x03' and bytes[15]=='\\xf0':\n",
    "        digilen = 0\n",
    "    else:\n",
    "        for n in range(14,len(bytes)-1):\n",
    "            if ord(bytes[n]) & 1:\n",
    "                digilen = (n-14)+1\n",
    "                break\n",
    "\n",
    "#    if digilen > 56:\n",
    "#        return ax\n",
    "    ax.digipeaters =  ax.callsign_decode(bitsu[112:112+digilen*8])\n",
    "    ax.info = bitsu[112+digilen*8+16:-16].tobytes()\n",
    "    \n",
    "    return ax"
   ]
  },
  {
   "cell_type": "markdown",
   "metadata": {},
   "source": [
    "#### Task:\n",
    "\n",
    "* Use the pll to find the sampling index of the analog NRZI\n",
    "* Sample and convert to a bitarray (True is positive NRZI, False is negative NRZI)\n",
    "* Convert the NRZI bits to NRZ\n",
    "* Use `findPackets` to find packet in the bitstream\n",
    "\n",
    "You should get this when decoding properly:\n",
    "\n",
    "`1) |DEST:CQ     |SRC:RS0ISS |DIGI: |>ARISS - International Space Station|`"
   ]
  },
  {
   "cell_type": "code",
   "execution_count": 15,
   "metadata": {
    "collapsed": false
   },
   "outputs": [
    {
     "ename": "NameError",
     "evalue": "name 'NRZIa' is not defined",
     "output_type": "error",
     "traceback": [
      "\u001b[0;31m---------------------------------------------------------------------------\u001b[0m",
      "\u001b[0;31mNameError\u001b[0m                                 Traceback (most recent call last)",
      "\u001b[0;32m<ipython-input-15-78ec75332dea>\u001b[0m in \u001b[0;36m<module>\u001b[0;34m()\u001b[0m\n\u001b[1;32m      1\u001b[0m \u001b[0;31m# your code here:\u001b[0m\u001b[0;34m\u001b[0m\u001b[0;34m\u001b[0m\u001b[0m\n\u001b[0;32m----> 2\u001b[0;31m \u001b[0minds\u001b[0m \u001b[0;34m=\u001b[0m \u001b[0mPLL\u001b[0m\u001b[0;34m(\u001b[0m\u001b[0mNRZIa\u001b[0m\u001b[0;34m,\u001b[0m \u001b[0mfs\u001b[0m\u001b[0;34m=\u001b[0m\u001b[0mfs\u001b[0m\u001b[0;34m)\u001b[0m\u001b[0;34m\u001b[0m\u001b[0m\n\u001b[0m\u001b[1;32m      3\u001b[0m \u001b[0msamples\u001b[0m \u001b[0;34m=\u001b[0m \u001b[0mNRZIa\u001b[0m\u001b[0;34m[\u001b[0m\u001b[0minds\u001b[0m\u001b[0;34m]\u001b[0m\u001b[0;34m\u001b[0m\u001b[0m\n\u001b[1;32m      4\u001b[0m \u001b[0mbits\u001b[0m \u001b[0;34m=\u001b[0m \u001b[0mNRZI2NRZ\u001b[0m\u001b[0;34m(\u001b[0m\u001b[0mbitarray\u001b[0m\u001b[0;34m.\u001b[0m\u001b[0mbitarray\u001b[0m\u001b[0;34m(\u001b[0m\u001b[0;34m(\u001b[0m\u001b[0msamples\u001b[0m\u001b[0;34m>\u001b[0m\u001b[0;36m0\u001b[0m\u001b[0;34m)\u001b[0m\u001b[0;34m.\u001b[0m\u001b[0mtolist\u001b[0m\u001b[0;34m(\u001b[0m\u001b[0;34m)\u001b[0m\u001b[0;34m)\u001b[0m\u001b[0;34m)\u001b[0m\u001b[0;34m\u001b[0m\u001b[0m\n\u001b[1;32m      5\u001b[0m \u001b[0mpackets\u001b[0m \u001b[0;34m=\u001b[0m \u001b[0mfindPackets\u001b[0m\u001b[0;34m(\u001b[0m\u001b[0mbits\u001b[0m\u001b[0;34m)\u001b[0m\u001b[0;34m\u001b[0m\u001b[0m\n",
      "\u001b[0;31mNameError\u001b[0m: name 'NRZIa' is not defined"
     ]
    }
   ],
   "source": [
    "# your code here:\n",
    "inds = PLL(NRZIa, fs=fs)\n",
    "samples = NRZIa[inds]\n",
    "bits = NRZI2NRZ(bitarray.bitarray((samples>0).tolist()))\n",
    "packets = findPackets(bits)"
   ]
  },
  {
   "cell_type": "code",
   "execution_count": 20,
   "metadata": {
    "collapsed": false,
    "scrolled": true
   },
   "outputs": [
    {
     "data": {
      "text/plain": [
       "array([   18,    55,    92,   131,   168,   205,   242,   280,   317,\n",
       "         354,   391,   428,   464,   501,   536,   573,   610,   647,\n",
       "         684,   721,   758,   794,   831,   868,   905,   942,   979,\n",
       "        1016,  1053,  1089,  1126,  1163,  1199,  1236,  1273,  1310,\n",
       "        1346,  1383,  1419,  1456,  1493,  1530,  1567,  1604,  1641,\n",
       "        1677,  1714,  1751,  1787,  1824,  1861,  1898,  1933,  1970,\n",
       "        2007,  2044,  2080,  2117,  2154,  2191,  2227,  2264,  2301,\n",
       "        2338,  2374,  2411,  2448,  2485,  2521,  2558,  2595,  2632,\n",
       "        2669,  2706,  2743,  2780,  2816,  2853,  2889,  2926,  2963,\n",
       "        3000,  3037,  3074,  3111,  3146,  3183,  3220,  3257,  3293,\n",
       "        3330,  3367,  3403,  3440,  3477,  3514,  3551,  3588,  3625,\n",
       "        3662,  3699,  3735,  3772,  3807,  3844,  3881,  3918,  3955,\n",
       "        3992,  4028,  4065,  4101,  4138,  4175,  4212,  4249,  4286,\n",
       "        4322,  4359,  4396,  4433,  4468,  4505,  4542,  4578,  4615,\n",
       "        4651,  4688,  4725,  4761,  4798,  4835,  4872,  4909,  4945,\n",
       "        4982,  5019,  5055,  5092,  5129,  5166,  5203,  5240,  5278,\n",
       "        5315,  5351,  5388,  5425,  5461,  5498,  5534,  5571,  5607,\n",
       "        5644,  5681,  5718,  5755,  5792,  5829,  5866,  5903,  5939,\n",
       "        5976,  6013,  6049,  6086,  6123,  6160,  6197,  6234,  6272,\n",
       "        6309,  6344,  6381,  6418,  6455,  6492,  6529,  6566,  6603,\n",
       "        6639,  6676,  6712,  6749,  6786,  6823,  6860,  6896,  6933,\n",
       "        6969,  7006,  7043,  7080,  7117,  7154,  7191,  7227,  7264,\n",
       "        7301,  7338,  7375,  7412,  7449,  7485,  7522,  7558,  7595,\n",
       "        7630,  7667,  7704,  7741,  7777,  7814,  7850,  7887,  7924,\n",
       "        7961,  7998,  8035,  8072,  8108,  8145,  8182,  8219,  8256,\n",
       "        8293,  8330,  8366,  8403,  8439,  8476,  8513,  8550,  8587,\n",
       "        8624,  8660,  8697,  8733,  8770,  8807,  8842,  8879,  8916,\n",
       "        8953,  8990,  9026,  9063,  9100,  9136,  9173,  9210,  9247,\n",
       "        9284,  9320,  9357,  9394,  9431,  9468,  9505,  9542,  9578,\n",
       "        9615,  9652,  9689,  9726,  9763,  9800,  9836,  9873,  9909,\n",
       "        9946,  9983, 10020, 10057, 10093, 10130, 10166, 10203, 10239,\n",
       "       10276, 10313, 10350, 10386, 10423, 10460, 10497, 10534, 10571,\n",
       "       10608, 10645, 10681, 10718, 10754, 10791, 10828, 10865, 10902,\n",
       "       10939, 10975, 11012, 11049, 11086, 11122, 11159, 11196, 11233,\n",
       "       11270, 11306, 11343, 11379, 11416, 11453, 11490, 11526, 11563,\n",
       "       11599, 11636, 11673, 11710, 11747, 11784, 11820, 11857, 11893,\n",
       "       11930, 11967, 12004, 12041, 12078, 12115, 12151, 12188, 12224,\n",
       "       12261, 12298, 12335, 12372, 12408, 12445, 12481, 12518, 12555,\n",
       "       12592, 12629, 12665, 12702, 12738, 12775, 12811, 12848, 12885,\n",
       "       12922, 12958, 12995, 13031, 13068, 13105, 13142, 13179, 13216,\n",
       "       13252, 13289, 13326, 13363, 13400, 13437, 13473, 13510, 13547,\n",
       "       13584, 13620, 13657, 13693, 13730, 13767, 13804, 13840, 13877,\n",
       "       13913, 13950, 13987, 14024, 14061, 14098, 14134, 14171, 14208,\n",
       "       14245, 14282, 14319, 14355, 14392, 14429, 14466, 14503, 14540,\n",
       "       14576, 14613, 14649, 14686, 14723, 14760, 14796, 14833, 14870,\n",
       "       14907, 14943, 14980, 15017, 15054, 15091, 15128, 15164, 15201,\n",
       "       15237, 15274, 15311, 15348, 15385, 15422, 15458, 15495, 15532,\n",
       "       15569, 15605, 15642, 15678, 15715, 15752, 15789, 15825, 15862,\n",
       "       15898, 15935, 15972, 16009, 16046, 16083, 16119, 16156, 16192,\n",
       "       16229, 16266, 16303, 16340, 16377, 16413, 16450, 16487, 16524,\n",
       "       16561, 16598, 16635, 16672, 16708, 16745, 16782, 16819, 16856,\n",
       "       16893, 16930, 16967, 17003, 17040, 17077, 17114, 17149, 17186,\n",
       "       17222, 17259, 17296, 17333, 17370, 17407, 17443, 17480, 17517,\n",
       "       17554, 17591, 17628, 17664, 17701, 17737, 17774, 17811, 17848,\n",
       "       17885, 17921, 17958, 17995, 18032, 18068, 18105, 18142, 18178,\n",
       "       18215, 18251, 18288, 18325, 18362, 18399, 18436, 18473, 18509,\n",
       "       18546, 18582, 18619, 18655, 18692, 18729, 18765, 18802, 18839,\n",
       "       18876, 18912, 18949, 18986, 19023, 19059, 19096, 19133, 19170,\n",
       "       19207, 19244, 19281, 19318, 19355, 19392, 19429, 19466, 19503,\n",
       "       19540, 19576, 19613, 19650, 19686, 19723, 19759, 19796, 19833,\n",
       "       19870, 19907, 19944, 19981, 20018, 20055, 20092, 20129, 20166,\n",
       "       20203, 20239, 20276, 20313, 20350, 20385, 20422, 20459, 20496,\n",
       "       20532, 20569, 20606, 20643, 20678, 20715, 20752, 20789, 20826,\n",
       "       20863, 20900, 20936, 20973, 21010, 21047, 21084, 21121, 21158,\n",
       "       21194, 21231, 21267, 21304, 21340, 21377, 21413, 21450, 21486,\n",
       "       21523, 21559, 21596, 21633, 21670, 21707, 21744, 21781, 21818,\n",
       "       21855, 21892, 21929, 21966, 22003, 22038, 22075, 22112, 22148,\n",
       "       22185, 22221, 22258, 22295, 22332, 22369, 22406, 22443, 22480,\n",
       "       22517, 22553, 22590, 22627, 22664, 22701, 22738, 22775, 22811,\n",
       "       22848, 22885, 22921, 22958, 22995, 23032, 23067, 23104, 23141,\n",
       "       23178, 23215, 23252, 23289, 23326, 23361, 23398, 23435, 23472,\n",
       "       23509, 23546, 23582, 23619, 23655, 23692, 23729, 23766, 23803,\n",
       "       23840, 23876, 23913, 23950, 23987, 24024, 24061, 24098, 24134,\n",
       "       24171, 24207, 24244, 24279, 24316, 24353, 24389, 24426, 24463,\n",
       "       24499, 24536, 24573, 24609, 24646, 24683, 24720, 24757, 24794,\n",
       "       24831, 24868, 24905, 24942, 24979, 25016, 25052, 25089, 25126,\n",
       "       25163, 25200, 25237, 25273, 25310, 25347, 25384, 25420, 25457,\n",
       "       25494, 25531, 25568, 25605, 25642, 25679, 25716, 25753, 25790,\n",
       "       25827, 25863, 25900, 25937, 25974, 26011, 26047, 26084, 26121,\n",
       "       26158, 26195, 26231, 26268, 26304, 26341, 26378, 26415, 26452,\n",
       "       26489, 26524, 26561, 26598, 26635, 26672, 26709, 26745, 26782,\n",
       "       26819, 26854, 26891, 26928, 26965, 27002, 27038, 27075, 27112,\n",
       "       27149, 27186, 27223, 27260, 27297, 27334, 27371, 27408, 27445,\n",
       "       27482, 27518, 27555, 27592, 27629, 27666, 27702, 27739, 27774,\n",
       "       27811, 27848, 27885, 27921, 27958, 27993, 28030, 28067, 28104,\n",
       "       28141, 28178, 28214, 28251, 28287, 28324, 28360, 28397, 28434,\n",
       "       28470, 28507, 28544, 28581, 28618, 28655, 28692, 28728, 28765,\n",
       "       28802, 28838, 28875, 28911, 28948, 28985, 29022, 29059, 29095,\n",
       "       29132, 29169, 29205, 29242, 29277, 29314, 29351, 29388, 29425,\n",
       "       29462, 29499, 29536, 29572, 29609, 29646, 29683, 29720, 29756,\n",
       "       29793, 29830, 29865, 29902, 29939, 29976, 30012, 30049, 30086,\n",
       "       30123, 30159, 30196, 30233, 30269, 30306, 30343, 30380, 30416,\n",
       "       30453, 30490, 30527, 30564, 30601, 30637, 30674, 30711, 30748,\n",
       "       30785, 30822, 30858, 30895, 30932, 30969, 31006, 31042, 31079,\n",
       "       31116, 31153, 31189, 31226, 31263, 31300, 31337, 31374, 31411,\n",
       "       31448, 31485, 31521, 31558, 31595, 31631, 31668, 31705, 31742,\n",
       "       31779, 31816, 31853, 31890, 31926, 31963, 32000, 32037, 32072,\n",
       "       32109, 32146, 32183, 32220, 32257, 32294, 32330, 32367, 32404,\n",
       "       32441, 32478, 32515, 32552, 32589, 32626, 32663, 32700, 32735,\n",
       "       32772, 32809, 32845, 32882, 32917, 32954, 32991, 33028, 33065,\n",
       "       33102, 33139, 33176, 33213, 33250, 33287, 33324, 33361, 33398,\n",
       "       33435, 33471, 33508, 33543, 33580, 33616, 33653, 33689, 33726,\n",
       "       33762, 33799, 33835, 33872, 33908, 33945, 33981, 34018, 34055,\n",
       "       34092, 34129, 34166, 34202, 34239, 34276, 34313, 34349, 34386,\n",
       "       34423, 34460, 34493, 34532, 34569, 34606, 34643, 34680, 34717,\n",
       "       34754, 34791, 34828, 34866, 34903, 34940, 34977, 35016, 35053,\n",
       "       35093, 35130, 35171])"
      ]
     },
     "execution_count": 20,
     "metadata": {},
     "output_type": "execute_result"
    }
   ],
   "source": [
    "inds"
   ]
  },
  {
   "cell_type": "code",
   "execution_count": 21,
   "metadata": {
    "collapsed": false,
    "scrolled": true
   },
   "outputs": [
    {
     "data": {
      "text/plain": [
       "<Container object of 3 artists>"
      ]
     },
     "execution_count": 21,
     "metadata": {},
     "output_type": "execute_result"
    },
    {
     "data": {
      "image/png": "[encoded data removed]",
      "text/plain": [
       "<matplotlib.figure.Figure at 0x10a1bc210>"
      ]
     },
     "metadata": {},
     "output_type": "display_data"
    }
   ],
   "source": [
    "stem(inds[:50])"
   ]
  },
  {
   "cell_type": "code",
   "execution_count": 22,
   "metadata": {
    "collapsed": false
   },
   "outputs": [
    {
     "name": "stdout",
     "output_type": "stream",
     "text": [
      "('1) |DEST:CQ     |SRC:RS0ISS |DIGI: |', '>ARISS - International Space Station', '|')\n"
     ]
    }
   ],
   "source": [
    "# code to display the packets\n",
    "# for p in packets:\n",
    "#     print p\n",
    "# Iterate over all packets, print the valid ones\n",
    "npack = 0\n",
    "for pkt in packets:\n",
    "        if len(pkt) > 200: \n",
    "            ax = decodeAX25(pkt)\n",
    "            if ax.info != 'bad packet':\n",
    "                npack = npack+1\n",
    "                print(str(npack)+\") |DEST:\"+ax.destination[:-1]+\" |SRC:\"+ax.source + \" |DIGI:\"+ax.digipeaters+\" |\",ax.info,\"|\")\n"
   ]
  },
  {
   "cell_type": "markdown",
   "metadata": {},
   "source": [
    "### Testing on more packets\n",
    "\n",
    "Now, lets try our decoder on a noisy recording with many more packets. \n",
    "\n",
    "#### Task:\n",
    "* Download the full recording of the pass, which is stored in `ISS.wav`. It's a 3min recording. It should decode in less than about a minute.  \n",
    "* Process the signal and decode all the packets. My decoder decodes 24 packets successfully\n"
   ]
  },
  {
   "cell_type": "code",
   "execution_count": 19,
   "metadata": {
    "collapsed": false,
    "scrolled": true
   },
   "outputs": [],
   "source": [
    "# testfile = urllib.URLopener()\n",
    "# testfile.context = ssl._create_unverified_context()\n",
    "# testfile.retrieve(\"https://inst.eecs.berkeley.edu/~ee123/sp16/lab/lab5/ISS.wav\", 'ISS.wav')"
   ]
  },
  {
   "cell_type": "code",
   "execution_count": 21,
   "metadata": {
    "collapsed": false
   },
   "outputs": [],
   "source": [
    "fs, sig = wavread(\"ISS.wav\")\n",
    "\n",
    "# your code here:\n",
    "\n",
    "# Get the analog signal.\n",
    "NRZIa = nc_afsk1200Demod(sig, fs=fs)\n",
    "\n",
    "# Find the sample inds.\n",
    "inds = PLL(NRZIa, fs=fs)\n",
    "samples = NRZIa[inds]\n",
    "\n",
    "# Convert NRZI to NRZ\n",
    "bits = NRZI2NRZ(bitarray.bitarray((samples>0).tolist()))\n",
    "\n",
    "packets = findPackets(bits)"
   ]
  },
  {
   "cell_type": "code",
   "execution_count": 507,
   "metadata": {
    "collapsed": false
   },
   "outputs": [
    {
     "name": "stdout",
     "output_type": "stream",
     "text": [
      "('1) |DEST:CQ     |SRC:RS0ISS |DIGI: |', '>ARISS - International Space Station', '|')\n",
      "('2) |DEST:CQ     |SRC:N7HQB  |DIGI:RS0ISSp |', '=4038.2604n/11155.90744w-HELLO FROM N7HQB IN SLC UTAH!\\r', '|')\n",
      "('3) |DEST:CQ     |SRC:N7NEV  |DIGI:RS0ISSpWIDE2 2WIDE1 1 |', '>CQCQCQ\\r', '|')\n",
      "('4) |DEST:CQ     |SRC:N7HQB  |DIGI:RS0ISSp |', 'HELO VIA THE ISS\\r', '|')\n",
      "('5) |DEST:CQ     |SRC:K7RFK  |DIGI:RS0ISSp |', '\\r', '|')\n",
      "('6) |DEST:CQ     |SRC:K7RFK  |DIGI:RS0ISSp |', '\\r', '|')\n",
      "('7) |DEST:ARISS  |SRC:KF1BUZ |DIGI:RS0ISSpAPRS  0WIDE2 2SGATE 0ISS   0IGATE 0PCSAT 0BEACON0 |', '=3932.15N/11951.16Wy.kf1buz and k1gem say hi from reno nv\\r', '|')\n",
      "('8) |DEST:CQ     |SRC:K7RFK  |DIGI:RS0ISSp |', '\\r', '|')\n",
      "('9) |DEST:CQ     |SRC:N7NEV  |DIGI:RS0ISSpWIDE2 2WIDE1 1 |', '>from DM43\\r', '|')\n",
      "('10) |DEST:CQ     |SRC:N7HQB  |DIGI:RS0ISSp |', '=4038.2604n/11155.90744w-HELLO FROM N7HQB IN SLC UTAH!\\r', '|')\n",
      "('11) |DEST:CQ     |SRC:N7HQB  |DIGI:RS0ISSp |', 'HELLO VIA THE ISS\\r', '|')\n",
      "('12) |DEST:CQ     |SRC:K7RFK  |DIGI:RS0ISSp |', '=4635.49N/12032.27W-\\r', '|')\n",
      "('13) |DEST:CQ     |SRC:N7HQB  |DIGI:RS0ISSp |', '=4038.2604n/11155.90744w-HELLO FROM N7HQB IN SLC UTAH!\\r', '|')\n",
      "('14) |DEST:CQ     |SRC:N7HQB  |DIGI:RS0ISSp |', 'CQ\\r', '|')\n",
      "('15) |DEST:CQ     |SRC:N7HQB  |DIGI:RS0ISSp |', 'HELLO\\r', '|')\n",
      "('16) |DEST:CQ     |SRC:N7HQB  |DIGI:RS0ISSp |', 'HELLO VIA THE ISS\\r', '|')\n",
      "('17) |DEST:CQ     |SRC:K7RFK  |DIGI:RS0ISSp |', '>CN96\\r', '|')\n",
      "('18) |DEST:CQ     |SRC:RS0ISS |DIGI: |', '>ARISS - International Space Station', '|')\n",
      "('19) |DEST:CQ     |SRC:K7RFK  |DIGI:RS0ISSp |', '>CN96\\r', '|')\n",
      "('20) |DEST:ARISS  |SRC:KF1BUZ |DIGI:RS0ISSpAPRS  0WIDE2 2SGATE 0ISS   0IGATE 0PCSAT 0BEACON0 |', '=3932.15N/11951.16Wy.kf1buz and k1gem say hi from reno nv\\r', '|')\n",
      "('21) |DEST:CQ     |SRC:K7RFK  |DIGI:RS0ISSp |', '\\r', '|')\n",
      "('22) |DEST:ARISS  |SRC:KF1BUZ |DIGI:RS0ISSpAPRS  0WIDE2 2SGATE 0ISS   0IGATE 0PCSAT 0BEACON0 |', '=3932.15N/11951.16Wy.kf1buz and k1gem say hi from reno nv\\r', '|')\n",
      "('23) |DEST:CQ     |SRC:K7RFK  |DIGI:RS0ISSp |', '\\r', '|')\n",
      "('24) |DEST:CQ     |SRC:N7HQB  |DIGI:RS0ISSp |', 'TEST\\r', '|')\n"
     ]
    }
   ],
   "source": [
    "npack = 0\n",
    "for pkt in packets:\n",
    "        if len(pkt) > 200: \n",
    "            ax = decodeAX25(pkt)\n",
    "            if ax.info != 'bad packet':\n",
    "                npack = npack+1\n",
    "                print(str(npack)+\") |DEST:\"+ax.destination[:-1]+\" |SRC:\"+ax.source + \" |DIGI:\"+ax.digipeaters+\" |\",ax.info,\"|\")"
   ]
  },
  {
   "cell_type": "markdown",
   "metadata": {},
   "source": [
    "#### did you get 24 packets? yes i did\n",
    "\n",
    "\n",
    "### Test Loop-back audio\n",
    "\n",
    "The next step would be to test a loop-back in which we send audio through the USB audio device when its output and input are connected through a cable. To do so, \n",
    "\n",
    "#### Task:\n",
    "* Carefully pull the USB audio device out of the USB hub\n",
    "* Carefully disconnect the yellow jack that is connected to the microphone input to the USB. **Don't pull on the cable**, try to pull on the jack itself while holding the USB audio with the other hand.\n",
    "* Look at the radio audio connector. It has two jacks. One is 3.5mm and the other 2.5mm. Stick the 3.5mm in the microphone slot of the USB audio. \n",
    "* Carefully put the USB audio back in place. You have now a loopback! You can use it later to test your real-time system.\n",
    "\n",
    "This should look like this pictude below:\n",
    "\n",
    "<center><img src=\"https://inst.eecs.berkeley.edu/~ee123/sp16/lab/lab5/loopback.jpg\" alt=\"loopback\" style=\"width: 400px;\"/></center>\n"
   ]
  },
  {
   "cell_type": "markdown",
   "metadata": {},
   "source": [
    "#### Task:\n",
    "\n",
    "* Generate 3 padded packets, with **different** information in them.\n",
    "* Create the afsk1200 signal for each of the packets. \n",
    "* Start an audio recording thread that records from the USB audio and feeds a recording into a queue\n",
    "* While recording, play one packet at a time, with some interval of 200-500ms between packets. \n",
    "* Decode the the packets from the recording\n",
    "* Also, make a plot of the audio recording. Make sure its not saturated!\n",
    "\n",
    "##### *****Alternative setup:  If you are working with a partner, connect your jack into your partner USB audio and vice versa. Try to pass the packets to your partner.\n",
    "\n",
    "Tips:\n",
    "* Use a thread only for recording, not for playing.\n",
    "* Don't forget to kill the recording thread and exit the play function by sending \"EOT\" in the queue\n"
   ]
  },
  {
   "cell_type": "code",
   "execution_count": 12,
   "metadata": {
    "collapsed": false
   },
   "outputs": [],
   "source": [
    "fs_usb = p.get_device_info_by_index(dusb_out)['defaultSampleRate']"
   ]
  },
  {
   "cell_type": "code",
   "execution_count": 13,
   "metadata": {
    "collapsed": false
   },
   "outputs": [],
   "source": [
    "callsign = \"KM6BJU\"\n",
    "Digi =b'WIDE1-1,WIDE2-1'\n",
    "dest = \"APCAL\"\n",
    "\n",
    "info1 = \":SMSGTE   :@4253508482 Hi Alex, this is Alex Walczak. This lab is the best yet!\"\n",
    "info2 = \"=2759.16N/08655.30E[I'm on the top of the world\"\n",
    "info3 = \":ALL      : CQCQCQ I would like to talk to you!\"\n",
    "\n",
    "packet1 = ax25.UI(\n",
    "\t\tdestination=dest,\n",
    "\t\tsource=callsign, \n",
    "\t\tinfo=info1,\n",
    "\t\tdigipeaters=Digi.split(b','),\n",
    "        )\n",
    "\n",
    "packet2 = ax25.UI(\n",
    "\t\tdestination=dest,\n",
    "\t\tsource=callsign, \n",
    "\t\tinfo=info2,\n",
    "\t\tdigipeaters=Digi.split(b','),\n",
    "        )\n",
    "\n",
    "packet3 = ax25.UI(\n",
    "\t\tdestination=dest,\n",
    "\t\tsource=callsign, \n",
    "\t\tinfo=info3,\n",
    "\t\tdigipeaters=Digi.split(b','),\n",
    "        )\n",
    "\n",
    "# AFSK encode msgs\n",
    "\n",
    "prefix = bitarray.bitarray(tile([0,1,1,1,1,1,1,0],(20,)).tolist())\n",
    "\n",
    "padded = int2bitarray(np.hstack([bits2nparray(prefix),bits2nparray(NRZ2NRZI(packet1.unparse())),bits2nparray(prefix)]), width=1)\n",
    "msg1 = afsk1200(NRZ2NRZI(padded), fs=fs_usb)\n",
    "\n",
    "padded = int2bitarray(np.hstack([bits2nparray(prefix),bits2nparray(NRZ2NRZI(packet2.unparse())),bits2nparray(prefix)]), width=1)\n",
    "msg2 = afsk1200(NRZ2NRZI(padded), fs=fs_usb)\n",
    "\n",
    "padded = int2bitarray(np.hstack([bits2nparray(prefix),bits2nparray(NRZ2NRZI(packet3.unparse())),bits2nparray(prefix)]), width=1)\n",
    "msg3 = afsk1200(NRZ2NRZI(padded), fs=fs_usb)\n",
    "\n",
    "# msg1 = afsk1200(packet1, fs=48e3)\n",
    "# msg2 = afsk1200(packet2, fs=48e3)\n",
    "# msg3 = afsk1200(packet3, fs=48e3)"
   ]
  },
  {
   "cell_type": "code",
   "execution_count": 1,
   "metadata": {
    "collapsed": false,
    "scrolled": false
   },
   "outputs": [
    {
     "ename": "NameError",
     "evalue": "name 'Queue' is not defined",
     "output_type": "error",
     "traceback": [
      "\u001b[0;31m---------------------------------------------------------------------------\u001b[0m",
      "\u001b[0;31mNameError\u001b[0m                                 Traceback (most recent call last)",
      "\u001b[0;32m<ipython-input-1-fbc8a40f7e60>\u001b[0m in \u001b[0;36m<module>\u001b[0;34m()\u001b[0m\n\u001b[1;32m      1\u001b[0m \u001b[0;31m# create an input output FIFO queues\u001b[0m\u001b[0;34m\u001b[0m\u001b[0;34m\u001b[0m\u001b[0m\n\u001b[1;32m      2\u001b[0m \u001b[0;31m# Qin = Queue.Queue()\u001b[0m\u001b[0;34m\u001b[0m\u001b[0;34m\u001b[0m\u001b[0m\n\u001b[0;32m----> 3\u001b[0;31m \u001b[0mQout\u001b[0m \u001b[0;34m=\u001b[0m \u001b[0mQueue\u001b[0m\u001b[0;34m.\u001b[0m\u001b[0mQueue\u001b[0m\u001b[0;34m(\u001b[0m\u001b[0;34m)\u001b[0m\u001b[0;34m\u001b[0m\u001b[0m\n\u001b[0m\u001b[1;32m      4\u001b[0m \u001b[0;34m\u001b[0m\u001b[0m\n\u001b[1;32m      5\u001b[0m \u001b[0;31m# create a control fifo to kill threads when done\u001b[0m\u001b[0;34m\u001b[0m\u001b[0;34m\u001b[0m\u001b[0m\n",
      "\u001b[0;31mNameError\u001b[0m: name 'Queue' is not defined"
     ]
    }
   ],
   "source": [
    "# create an input output FIFO queues\n",
    "# Qin = Queue.Queue()\n",
    "Qout = Queue.Queue()\n",
    "\n",
    "# create a control fifo to kill threads when done\n",
    "cQin = Queue.Queue()\n",
    "cQout = Queue.Queue()\n",
    "\n",
    "# create a pyaudio object\n",
    "p = pyaudio.PyAudio()\n",
    "\n",
    "# get sampling rate from pyaudio\n",
    "fs_usb = p.get_device_info_by_index(dusb_in)['defaultSampleRate']\n",
    "\n",
    "\n",
    "# initialize a recording thread. \n",
    "# t_rec = threading.Thread(target = record_audio,   args = (Qin, cQin,p, fs_usb, dusb_out))\n",
    "\n",
    "# initialize a playing thread. \n",
    "\n",
    "# start the recording and playing threads\n",
    "# t_rec.start()\n",
    "\n",
    "Qout.put(0.7*msg1)\n",
    "Qout.put(0.7*msg2)\n",
    "Qout.put(0.7*msg3)\n",
    "cQout.put('EOT')\n",
    "\n",
    "time.sleep(1)\n",
    "play_audio(Qout, cQout, p, fs_usb, dusb_in)\n",
    "\n",
    "# recv = []\n",
    "# while not Qin.empty():\n",
    "#     recv += list(Qin.get())\n",
    "    \n",
    "# Qin.put('EOT')\n",
    "# time.sleep(3)\n",
    "\n",
    "# with Qin.mutex:\n",
    "#     Qin.queue.clear()\n",
    "# with Qout.mutex:\n",
    "#     Qout.queue.clear()\n",
    "# with cQin.mutex:\n",
    "#     cQin.queue.clear()\n",
    "# with cQout.mutex:\n",
    "#     cQout.queue.clear()\n",
    "\n",
    "# p.terminate()\n",
    "\n",
    "# NRZIa = nc_afsk1200Demod(recv, fs_usb)\n",
    "# inds = PLL(NRZIa, fs=fs_usb)\n",
    "# samples = NRZIa[inds]\n",
    "# bits = NRZI2NRZ(bitarray.bitarray((samples>0).tolist()))\n",
    "# packets = findPackets(bits)"
   ]
  },
  {
   "cell_type": "code",
   "execution_count": null,
   "metadata": {
    "collapsed": false
   },
   "outputs": [],
   "source": [
    "npack = 0\n",
    "for pkt in packets:\n",
    "        print(len(pkt))\n",
    "        if len(pkt) > 200: \n",
    "            ax = decodeAX25(pkt)\n",
    "            if ax.info != 'bad packet':\n",
    "                npack = npack+1\n",
    "                print(str(npack)+\") |DEST:\"+ax.destination[:-1]+\" |SRC:\"+ax.source + \" |DIGI:\"+ax.digipeaters+\" |\",ax.info,\"|\")"
   ]
  },
  {
   "cell_type": "markdown",
   "metadata": {},
   "source": [
    "Congratulations,  you created a modem!\n",
    "\n",
    "\n",
    "## Next.... We will move to stream processing to make it useful."
   ]
  },
  {
   "cell_type": "markdown",
   "metadata": {},
   "source": [
    "### Got up to here. Will work on the rest next.\n",
    "\n"
   ]
  },
  {
   "cell_type": "code",
   "execution_count": 119,
   "metadata": {
    "collapsed": false
   },
   "outputs": [
    {
     "name": "stdout",
     "output_type": "stream",
     "text": [
      "('1) |DEST:APCAL  |SRC:KM6BJU |DIGI:WIDE1 1WIDE2 1 |', ':SMSGTE   :@4253508482 Hi Alex, this is Alex Walczak. This lab is the best yet!', '|')\n"
     ]
    }
   ],
   "source": [
    "NRZIa = nc_afsk1200Demod(msg, fs=48e3)\n",
    "packets = []\n",
    "inds = PLL(NRZIa, fs=48e3)\n",
    "samples = NRZIa[inds]\n",
    "bits = NRZI2NRZ(bitarray.bitarray((samples>0).tolist()))\n",
    "packets = findPackets(bits)\n",
    "\n",
    "npack = 0\n",
    "for pkt in packets:\n",
    "        if len(pkt) > 200: \n",
    "            ax = decodeAX25(pkt)\n",
    "            if ax.info != 'bad packet':\n",
    "                npack = npack+1\n",
    "                print(str(npack)+\") |DEST:\"+ax.destination[:-1]+\" |SRC:\"+ax.source + \" |DIGI:\"+ax.digipeaters+\" |\",ax.info,\"|\")"
   ]
  },
  {
   "cell_type": "code",
   "execution_count": null,
   "metadata": {
    "collapsed": false
   },
   "outputs": [],
   "source": []
  },
  {
   "cell_type": "code",
   "execution_count": null,
   "metadata": {
    "collapsed": true
   },
   "outputs": [],
   "source": []
  }
 ],
 "metadata": {
  "kernelspec": {
   "display_name": "Python 2",
   "language": "python",
   "name": "python2"
  },
  "language_info": {
   "codemirror_mode": {
    "name": "ipython",
    "version": 2
   },
   "file_extension": ".py",
   "mimetype": "text/x-python",
   "name": "python",
   "nbconvert_exporter": "python",
   "pygments_lexer": "ipython2",
   "version": "2.7.10"
  }
 },
 "nbformat": 4,
 "nbformat_minor": 0
}
